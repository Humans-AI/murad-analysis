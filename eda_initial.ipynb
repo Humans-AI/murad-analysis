{
 "cells": [
  {
   "cell_type": "code",
   "execution_count": 1,
   "metadata": {},
   "outputs": [],
   "source": [
    "import numpy as np\n",
    "import pandas as pd\n",
    "import matplotlib.pyplot as plt\n",
    "import seaborn as sns\n",
    "import os\n",
    "import statsmodels.api as sm"
   ]
  },
  {
   "cell_type": "code",
   "execution_count": null,
   "metadata": {},
   "outputs": [],
   "source": [
    "# !pip install statsmodels\n",
    "# !pip install seaborn==0.11.0"
   ]
  },
  {
   "cell_type": "markdown",
   "metadata": {},
   "source": [
    "# Cleaning"
   ]
  },
  {
   "cell_type": "code",
   "execution_count": 124,
   "metadata": {},
   "outputs": [],
   "source": [
    "data_dir = 'jan_feb_data'\n",
    "# report data\n",
    "report = pd.read_csv(os.path.join(data_dir, \"export_as_report.csv\"))\n",
    "cols_to_use = ['Ad ID', 'Ad Delivery', 'Last Significant Edit', \n",
    "              'Date Created', 'Starts', 'Reporting Ends',\n",
    "              'Website Purchase ROAS (Return on Ad Spend)',\n",
    "              'CPC (All) (USD)', 'CTR (All)',\n",
    "              'Video Plays at 25%', 'Video Plays at 50%', 'Video Plays at 75%',\n",
    "              'Video Plays at 95%', 'Video Plays at 100%', 'Video Average Play Time']\n",
    "metrics = ['Website Purchase ROAS (Return on Ad Spend)',\n",
    "           'CPC (All) (USD)', 'CTR (All)']\n",
    "report = report[cols_to_use]\n",
    "\n",
    "# campaign data\n",
    "campaigns_data = [\"jan-feb_4_campaigns_1-200.csv\",\"jan-feb_4_campaigns_201-209.csv\"]\n",
    "camp = []\n",
    "for cd in campaigns_data:\n",
    "    camp.append(pd.read_csv(os.path.join(data_dir, cd)))\n",
    "camp_data = pd.concat(camp)\n",
    "camp_data = camp_data.dropna(axis='columns',how='all')\n",
    "cols_to_use = ['Ad ID',\n",
    "               'Ad Name','Ad Set Time Start',\n",
    "               'Gender', 'Age Min', 'Age Max',\n",
    "               'Messenger Positions',\n",
    "               'Ad Status',\n",
    "               'Ad Name', 'Title', 'Body', 'Display Link','Link Description',\n",
    "               'Image Hash','Video Thumbnail URL']\n",
    "camp_data = camp_data[cols_to_use]\n",
    "# Clean up Ad ID column by removing the a: in the value\n",
    "camp_data['Ad ID'] = camp_data['Ad ID'].apply(lambda a:int(a.split(\":\")[1]))\n",
    "\n",
    "# merge the 2 dataframes\n",
    "ad_data = report.merge(camp_data, on=\"Ad ID\")\n",
    "\n",
    "# remove duplicate columns\n",
    "ad_data = ad_data.loc[:,~ad_data.columns.duplicated()]\n",
    "\n",
    "def replace_nans(name):\n",
    "    if str(name) == \"nan\":\n",
    "        return 0\n",
    "    else:\n",
    "        return 1\n",
    "\n",
    "ad_data['messenger_ad'] = ad_data['Messenger Positions'].apply(replace_nans)\n",
    "\n",
    "# get image / video tag from the ad name\n",
    "def process_ad_name(name):\n",
    "    return name.split('_')[-1]\n",
    "ad_data['media_type'] = ad_data['Ad Name'].apply(process_ad_name)"
   ]
  },
  {
   "cell_type": "markdown",
   "metadata": {},
   "source": [
    "# Metrics Exploration"
   ]
  },
  {
   "cell_type": "code",
   "execution_count": 125,
   "metadata": {},
   "outputs": [],
   "source": [
    "ad_data['ctr'] = ad_data['CTR (All)']\n",
    "ad_data['cpc'] = ad_data['CPC (All) (USD)']\n",
    "# transform to log scale\n",
    "epsilon = 10e-2\n",
    "ad_data['log_ctr'] = np.log(np.where(ad_data['ctr'] == 0, epsilon, ad_data['ctr']))\n",
    "ad_data['log_cpc'] = np.log(np.where(ad_data['cpc'] == 0, epsilon, ad_data['cpc']))"
   ]
  },
  {
   "cell_type": "code",
   "execution_count": 126,
   "metadata": {},
   "outputs": [
    {
     "data": {
      "text/html": [
       "<div>\n",
       "<style scoped>\n",
       "    .dataframe tbody tr th:only-of-type {\n",
       "        vertical-align: middle;\n",
       "    }\n",
       "\n",
       "    .dataframe tbody tr th {\n",
       "        vertical-align: top;\n",
       "    }\n",
       "\n",
       "    .dataframe thead th {\n",
       "        text-align: right;\n",
       "    }\n",
       "</style>\n",
       "<table border=\"1\" class=\"dataframe\">\n",
       "  <thead>\n",
       "    <tr style=\"text-align: right;\">\n",
       "      <th></th>\n",
       "      <th>Website Purchase ROAS (Return on Ad Spend)</th>\n",
       "      <th>CPC (All) (USD)</th>\n",
       "      <th>CTR (All)</th>\n",
       "    </tr>\n",
       "  </thead>\n",
       "  <tbody>\n",
       "    <tr>\n",
       "      <th>count</th>\n",
       "      <td>99.000000</td>\n",
       "      <td>209.000000</td>\n",
       "      <td>209.000000</td>\n",
       "    </tr>\n",
       "    <tr>\n",
       "      <th>mean</th>\n",
       "      <td>1.446342</td>\n",
       "      <td>1.553722</td>\n",
       "      <td>0.965940</td>\n",
       "    </tr>\n",
       "    <tr>\n",
       "      <th>std</th>\n",
       "      <td>1.626405</td>\n",
       "      <td>1.178083</td>\n",
       "      <td>1.191042</td>\n",
       "    </tr>\n",
       "    <tr>\n",
       "      <th>min</th>\n",
       "      <td>0.085415</td>\n",
       "      <td>0.000000</td>\n",
       "      <td>0.000000</td>\n",
       "    </tr>\n",
       "    <tr>\n",
       "      <th>25%</th>\n",
       "      <td>0.640574</td>\n",
       "      <td>0.482581</td>\n",
       "      <td>0.475534</td>\n",
       "    </tr>\n",
       "    <tr>\n",
       "      <th>50%</th>\n",
       "      <td>0.975858</td>\n",
       "      <td>1.634286</td>\n",
       "      <td>0.839944</td>\n",
       "    </tr>\n",
       "    <tr>\n",
       "      <th>75%</th>\n",
       "      <td>1.721293</td>\n",
       "      <td>2.233000</td>\n",
       "      <td>1.258993</td>\n",
       "    </tr>\n",
       "    <tr>\n",
       "      <th>max</th>\n",
       "      <td>12.480499</td>\n",
       "      <td>5.875000</td>\n",
       "      <td>14.285714</td>\n",
       "    </tr>\n",
       "  </tbody>\n",
       "</table>\n",
       "</div>"
      ],
      "text/plain": [
       "       Website Purchase ROAS (Return on Ad Spend)  CPC (All) (USD)   CTR (All)\n",
       "count                                   99.000000       209.000000  209.000000\n",
       "mean                                     1.446342         1.553722    0.965940\n",
       "std                                      1.626405         1.178083    1.191042\n",
       "min                                      0.085415         0.000000    0.000000\n",
       "25%                                      0.640574         0.482581    0.475534\n",
       "50%                                      0.975858         1.634286    0.839944\n",
       "75%                                      1.721293         2.233000    1.258993\n",
       "max                                     12.480499         5.875000   14.285714"
      ]
     },
     "execution_count": 126,
     "metadata": {},
     "output_type": "execute_result"
    }
   ],
   "source": [
    "ad_data[metrics].describe()"
   ]
  },
  {
   "cell_type": "code",
   "execution_count": 127,
   "metadata": {},
   "outputs": [
    {
     "data": {
      "image/png": "[encoded data removed]",
      "text/plain": [
       "<Figure size 432x288 with 1 Axes>"
      ]
     },
     "metadata": {
      "needs_background": "light"
     },
     "output_type": "display_data"
    }
   ],
   "source": [
    "plt.hist(ad_data['ctr'])\n",
    "plt.title('CTR (All)')\n",
    "plt.show()"
   ]
  },
  {
   "cell_type": "code",
   "execution_count": 128,
   "metadata": {},
   "outputs": [
    {
     "data": {
      "image/png": "[encoded data removed]",
      "text/plain": [
       "<Figure size 432x288 with 1 Axes>"
      ]
     },
     "metadata": {
      "needs_background": "light"
     },
     "output_type": "display_data"
    }
   ],
   "source": [
    "plt.hist(ad_data['cpc'])\n",
    "plt.title('CPC (All) (USD)')\n",
    "plt.show()"
   ]
  },
  {
   "cell_type": "markdown",
   "metadata": {},
   "source": [
    "Notes: Outlier in CPC (manual exploration shows its a high quality GIF, keep it). Use log scale for both metrics. ROA has missing vals so don't use for now."
   ]
  },
  {
   "cell_type": "markdown",
   "metadata": {},
   "source": [
    "# Media Exploration"
   ]
  },
  {
   "cell_type": "code",
   "execution_count": 129,
   "metadata": {},
   "outputs": [
    {
     "data": {
      "text/plain": [
       "Static        96\n",
       "GIF           92\n",
       "Video         20\n",
       "Collection     1\n",
       "Name: media_type, dtype: int64"
      ]
     },
     "execution_count": 129,
     "metadata": {},
     "output_type": "execute_result"
    }
   ],
   "source": [
    "df_media = ad_data[['log_cpc', 'cpc', 'log_ctr', 'ctr', \"media_type\"]]\n",
    "df_media.media_type.value_counts()"
   ]
  },
  {
   "cell_type": "code",
   "execution_count": 130,
   "metadata": {},
   "outputs": [],
   "source": [
    "df_media = df_media[df_media.media_type != 'Collection']"
   ]
  },
  {
   "cell_type": "code",
   "execution_count": 131,
   "metadata": {},
   "outputs": [],
   "source": [
    "X_bin = pd.get_dummies(df_media.media_type, columns=[\"media_type\"])[['Video', 'GIF']]"
   ]
  },
  {
   "cell_type": "code",
   "execution_count": 132,
   "metadata": {},
   "outputs": [
    {
     "data": {
      "image/png": "[encoded data removed]",
      "text/plain": [
       "<Figure size 720x360 with 1 Axes>"
      ]
     },
     "metadata": {
      "needs_background": "light"
     },
     "output_type": "display_data"
    }
   ],
   "source": [
    "plt.figure(figsize=(10, 5))\n",
    "ax = sns.boxenplot(x='media_type', y='ctr', data=df_media, showfliers=False)\n",
    "ax.set_title('CTR')\n",
    "plt.show()"
   ]
  },
  {
   "cell_type": "code",
   "execution_count": 133,
   "metadata": {},
   "outputs": [
    {
     "data": {
      "text/html": [
       "<table class=\"simpletable\">\n",
       "<caption>OLS Regression Results</caption>\n",
       "<tr>\n",
       "  <th>Dep. Variable:</th>           <td>ctr</td>       <th>  R-squared (uncentered):</th>      <td>   0.282</td>\n",
       "</tr>\n",
       "<tr>\n",
       "  <th>Model:</th>                   <td>OLS</td>       <th>  Adj. R-squared (uncentered):</th> <td>   0.275</td>\n",
       "</tr>\n",
       "<tr>\n",
       "  <th>Method:</th>             <td>Least Squares</td>  <th>  F-statistic:       </th>          <td>   40.54</td>\n",
       "</tr>\n",
       "<tr>\n",
       "  <th>Date:</th>             <td>Sun, 07 Mar 2021</td> <th>  Prob (F-statistic):</th>          <td>1.42e-15</td>\n",
       "</tr>\n",
       "<tr>\n",
       "  <th>Time:</th>                 <td>17:46:05</td>     <th>  Log-Likelihood:    </th>          <td> -349.75</td>\n",
       "</tr>\n",
       "<tr>\n",
       "  <th>No. Observations:</th>      <td>   208</td>      <th>  AIC:               </th>          <td>   703.5</td>\n",
       "</tr>\n",
       "<tr>\n",
       "  <th>Df Residuals:</th>          <td>   206</td>      <th>  BIC:               </th>          <td>   710.2</td>\n",
       "</tr>\n",
       "<tr>\n",
       "  <th>Df Model:</th>              <td>     2</td>      <th>                     </th>              <td> </td>   \n",
       "</tr>\n",
       "<tr>\n",
       "  <th>Covariance Type:</th>      <td>nonrobust</td>    <th>                     </th>              <td> </td>   \n",
       "</tr>\n",
       "</table>\n",
       "<table class=\"simpletable\">\n",
       "<tr>\n",
       "    <td></td>       <th>coef</th>     <th>std err</th>      <th>t</th>      <th>P>|t|</th>  <th>[0.025</th>    <th>0.975]</th>  \n",
       "</tr>\n",
       "<tr>\n",
       "  <th>Video</th> <td>    1.0604</td> <td>    0.292</td> <td>    3.630</td> <td> 0.000</td> <td>    0.484</td> <td>    1.636</td>\n",
       "</tr>\n",
       "<tr>\n",
       "  <th>GIF</th>   <td>    1.1226</td> <td>    0.136</td> <td>    8.241</td> <td> 0.000</td> <td>    0.854</td> <td>    1.391</td>\n",
       "</tr>\n",
       "</table>\n",
       "<table class=\"simpletable\">\n",
       "<tr>\n",
       "  <th>Omnibus:</th>       <td>265.684</td> <th>  Durbin-Watson:     </th> <td>   1.663</td> \n",
       "</tr>\n",
       "<tr>\n",
       "  <th>Prob(Omnibus):</th> <td> 0.000</td>  <th>  Jarque-Bera (JB):  </th> <td>23576.790</td>\n",
       "</tr>\n",
       "<tr>\n",
       "  <th>Skew:</th>          <td> 5.199</td>  <th>  Prob(JB):          </th> <td>    0.00</td> \n",
       "</tr>\n",
       "<tr>\n",
       "  <th>Kurtosis:</th>      <td>54.110</td>  <th>  Cond. No.          </th> <td>    2.14</td> \n",
       "</tr>\n",
       "</table><br/><br/>Notes:<br/>[1] R² is computed without centering (uncentered) since the model does not contain a constant.<br/>[2] Standard Errors assume that the covariance matrix of the errors is correctly specified."
      ],
      "text/plain": [
       "<class 'statsmodels.iolib.summary.Summary'>\n",
       "\"\"\"\n",
       "                                 OLS Regression Results                                \n",
       "=======================================================================================\n",
       "Dep. Variable:                    ctr   R-squared (uncentered):                   0.282\n",
       "Model:                            OLS   Adj. R-squared (uncentered):              0.275\n",
       "Method:                 Least Squares   F-statistic:                              40.54\n",
       "Date:                Sun, 07 Mar 2021   Prob (F-statistic):                    1.42e-15\n",
       "Time:                        17:46:05   Log-Likelihood:                         -349.75\n",
       "No. Observations:                 208   AIC:                                      703.5\n",
       "Df Residuals:                     206   BIC:                                      710.2\n",
       "Df Model:                           2                                                  \n",
       "Covariance Type:            nonrobust                                                  \n",
       "==============================================================================\n",
       "                 coef    std err          t      P>|t|      [0.025      0.975]\n",
       "------------------------------------------------------------------------------\n",
       "Video          1.0604      0.292      3.630      0.000       0.484       1.636\n",
       "GIF            1.1226      0.136      8.241      0.000       0.854       1.391\n",
       "==============================================================================\n",
       "Omnibus:                      265.684   Durbin-Watson:                   1.663\n",
       "Prob(Omnibus):                  0.000   Jarque-Bera (JB):            23576.790\n",
       "Skew:                           5.199   Prob(JB):                         0.00\n",
       "Kurtosis:                      54.110   Cond. No.                         2.14\n",
       "==============================================================================\n",
       "\n",
       "Notes:\n",
       "[1] R² is computed without centering (uncentered) since the model does not contain a constant.\n",
       "[2] Standard Errors assume that the covariance matrix of the errors is correctly specified.\n",
       "\"\"\""
      ]
     },
     "execution_count": 133,
     "metadata": {},
     "output_type": "execute_result"
    }
   ],
   "source": [
    "ctr = df_media.ctr\n",
    "model_ctr = sm.OLS(ctr, X_bin).fit()\n",
    "model_ctr.summary()"
   ]
  },
  {
   "cell_type": "code",
   "execution_count": 134,
   "metadata": {},
   "outputs": [
    {
     "data": {
      "image/png": "[encoded data removed]",
      "text/plain": [
       "<Figure size 720x360 with 1 Axes>"
      ]
     },
     "metadata": {
      "needs_background": "light"
     },
     "output_type": "display_data"
    }
   ],
   "source": [
    "plt.figure(figsize=(10, 5))\n",
    "ax = sns.boxenplot(x='media_type', y='cpc', data=df_media, showfliers=True)\n",
    "ax.set_title('CPC')\n",
    "plt.show()"
   ]
  },
  {
   "cell_type": "markdown",
   "metadata": {},
   "source": [
    "Notes: There is only one collection, so drop it and focus on GIFs, video, static."
   ]
  },
  {
   "cell_type": "code",
   "execution_count": 135,
   "metadata": {},
   "outputs": [
    {
     "data": {
      "text/html": [
       "<table class=\"simpletable\">\n",
       "<caption>OLS Regression Results</caption>\n",
       "<tr>\n",
       "  <th>Dep. Variable:</th>           <td>cpc</td>       <th>  R-squared (uncentered):</th>      <td>   0.316</td>\n",
       "</tr>\n",
       "<tr>\n",
       "  <th>Model:</th>                   <td>OLS</td>       <th>  Adj. R-squared (uncentered):</th> <td>   0.309</td>\n",
       "</tr>\n",
       "<tr>\n",
       "  <th>Method:</th>             <td>Least Squares</td>  <th>  F-statistic:       </th>          <td>   47.48</td>\n",
       "</tr>\n",
       "<tr>\n",
       "  <th>Date:</th>             <td>Sun, 07 Mar 2021</td> <th>  Prob (F-statistic):</th>          <td>1.10e-17</td>\n",
       "</tr>\n",
       "<tr>\n",
       "  <th>Time:</th>                 <td>17:46:08</td>     <th>  Log-Likelihood:    </th>          <td> -394.92</td>\n",
       "</tr>\n",
       "<tr>\n",
       "  <th>No. Observations:</th>      <td>   208</td>      <th>  AIC:               </th>          <td>   793.8</td>\n",
       "</tr>\n",
       "<tr>\n",
       "  <th>Df Residuals:</th>          <td>   206</td>      <th>  BIC:               </th>          <td>   800.5</td>\n",
       "</tr>\n",
       "<tr>\n",
       "  <th>Df Model:</th>              <td>     2</td>      <th>                     </th>              <td> </td>   \n",
       "</tr>\n",
       "<tr>\n",
       "  <th>Covariance Type:</th>      <td>nonrobust</td>    <th>                     </th>              <td> </td>   \n",
       "</tr>\n",
       "</table>\n",
       "<table class=\"simpletable\">\n",
       "<tr>\n",
       "    <td></td>       <th>coef</th>     <th>std err</th>      <th>t</th>      <th>P>|t|</th>  <th>[0.025</th>    <th>0.975]</th>  \n",
       "</tr>\n",
       "<tr>\n",
       "  <th>Video</th> <td>    1.5064</td> <td>    0.363</td> <td>    4.150</td> <td> 0.000</td> <td>    0.791</td> <td>    2.222</td>\n",
       "</tr>\n",
       "<tr>\n",
       "  <th>GIF</th>   <td>    1.4924</td> <td>    0.169</td> <td>    8.817</td> <td> 0.000</td> <td>    1.159</td> <td>    1.826</td>\n",
       "</tr>\n",
       "</table>\n",
       "<table class=\"simpletable\">\n",
       "<tr>\n",
       "  <th>Omnibus:</th>       <td> 2.057</td> <th>  Durbin-Watson:     </th> <td>   1.014</td>\n",
       "</tr>\n",
       "<tr>\n",
       "  <th>Prob(Omnibus):</th> <td> 0.358</td> <th>  Jarque-Bera (JB):  </th> <td>   2.134</td>\n",
       "</tr>\n",
       "<tr>\n",
       "  <th>Skew:</th>          <td> 0.223</td> <th>  Prob(JB):          </th> <td>   0.344</td>\n",
       "</tr>\n",
       "<tr>\n",
       "  <th>Kurtosis:</th>      <td> 2.781</td> <th>  Cond. No.          </th> <td>    2.14</td>\n",
       "</tr>\n",
       "</table><br/><br/>Notes:<br/>[1] R² is computed without centering (uncentered) since the model does not contain a constant.<br/>[2] Standard Errors assume that the covariance matrix of the errors is correctly specified."
      ],
      "text/plain": [
       "<class 'statsmodels.iolib.summary.Summary'>\n",
       "\"\"\"\n",
       "                                 OLS Regression Results                                \n",
       "=======================================================================================\n",
       "Dep. Variable:                    cpc   R-squared (uncentered):                   0.316\n",
       "Model:                            OLS   Adj. R-squared (uncentered):              0.309\n",
       "Method:                 Least Squares   F-statistic:                              47.48\n",
       "Date:                Sun, 07 Mar 2021   Prob (F-statistic):                    1.10e-17\n",
       "Time:                        17:46:08   Log-Likelihood:                         -394.92\n",
       "No. Observations:                 208   AIC:                                      793.8\n",
       "Df Residuals:                     206   BIC:                                      800.5\n",
       "Df Model:                           2                                                  \n",
       "Covariance Type:            nonrobust                                                  \n",
       "==============================================================================\n",
       "                 coef    std err          t      P>|t|      [0.025      0.975]\n",
       "------------------------------------------------------------------------------\n",
       "Video          1.5064      0.363      4.150      0.000       0.791       2.222\n",
       "GIF            1.4924      0.169      8.817      0.000       1.159       1.826\n",
       "==============================================================================\n",
       "Omnibus:                        2.057   Durbin-Watson:                   1.014\n",
       "Prob(Omnibus):                  0.358   Jarque-Bera (JB):                2.134\n",
       "Skew:                           0.223   Prob(JB):                        0.344\n",
       "Kurtosis:                       2.781   Cond. No.                         2.14\n",
       "==============================================================================\n",
       "\n",
       "Notes:\n",
       "[1] R² is computed without centering (uncentered) since the model does not contain a constant.\n",
       "[2] Standard Errors assume that the covariance matrix of the errors is correctly specified.\n",
       "\"\"\""
      ]
     },
     "execution_count": 135,
     "metadata": {},
     "output_type": "execute_result"
    }
   ],
   "source": [
    "cpc = df_media.cpc\n",
    "model_cpc = sm.OLS(cpc, X_bin).fit()\n",
    "model_cpc.summary()"
   ]
  },
  {
   "cell_type": "markdown",
   "metadata": {},
   "source": [
    "# Targeting Exploration"
   ]
  },
  {
   "cell_type": "code",
   "execution_count": 136,
   "metadata": {},
   "outputs": [],
   "source": [
    "def target_subsetter(gender,age):\n",
    "    # says ad is targetted if gender is women and min age is 24\n",
    "    if gender != \"All\" and age > 18:\n",
    "        return 1\n",
    "    else:\n",
    "        return 0\n",
    "\n",
    "ad_data[\"targeted\"] = ad_data.apply(lambda x: target_subsetter(x['Gender'], x['Age Min']), axis=1)"
   ]
  },
  {
   "cell_type": "code",
   "execution_count": 137,
   "metadata": {},
   "outputs": [
    {
     "data": {
      "image/png": "[encoded data removed]",
      "text/plain": [
       "<Figure size 720x360 with 1 Axes>"
      ]
     },
     "metadata": {
      "needs_background": "light"
     },
     "output_type": "display_data"
    }
   ],
   "source": [
    "plt.figure(figsize=(10, 5))\n",
    "ax = sns.boxenplot(x='targeted', y='ctr', data=ad_data)\n",
    "ax.set_title('CTR')\n",
    "plt.show()"
   ]
  },
  {
   "cell_type": "code",
   "execution_count": 138,
   "metadata": {},
   "outputs": [
    {
     "data": {
      "text/html": [
       "<table class=\"simpletable\">\n",
       "<caption>OLS Regression Results</caption>\n",
       "<tr>\n",
       "  <th>Dep. Variable:</th>           <td>ctr</td>       <th>  R-squared (uncentered):</th>      <td>   0.047</td>\n",
       "</tr>\n",
       "<tr>\n",
       "  <th>Model:</th>                   <td>OLS</td>       <th>  Adj. R-squared (uncentered):</th> <td>   0.043</td>\n",
       "</tr>\n",
       "<tr>\n",
       "  <th>Method:</th>             <td>Least Squares</td>  <th>  F-statistic:       </th>          <td>   10.35</td>\n",
       "</tr>\n",
       "<tr>\n",
       "  <th>Date:</th>             <td>Sun, 07 Mar 2021</td> <th>  Prob (F-statistic):</th>           <td>0.00150</td>\n",
       "</tr>\n",
       "<tr>\n",
       "  <th>Time:</th>                 <td>17:46:12</td>     <th>  Log-Likelihood:    </th>          <td> -380.54</td>\n",
       "</tr>\n",
       "<tr>\n",
       "  <th>No. Observations:</th>      <td>   209</td>      <th>  AIC:               </th>          <td>   763.1</td>\n",
       "</tr>\n",
       "<tr>\n",
       "  <th>Df Residuals:</th>          <td>   208</td>      <th>  BIC:               </th>          <td>   766.4</td>\n",
       "</tr>\n",
       "<tr>\n",
       "  <th>Df Model:</th>              <td>     1</td>      <th>                     </th>              <td> </td>   \n",
       "</tr>\n",
       "<tr>\n",
       "  <th>Covariance Type:</th>      <td>nonrobust</td>    <th>                     </th>              <td> </td>   \n",
       "</tr>\n",
       "</table>\n",
       "<table class=\"simpletable\">\n",
       "<tr>\n",
       "      <td></td>        <th>coef</th>     <th>std err</th>      <th>t</th>      <th>P>|t|</th>  <th>[0.025</th>    <th>0.975]</th>  \n",
       "</tr>\n",
       "<tr>\n",
       "  <th>targeted</th> <td>    0.8146</td> <td>    0.253</td> <td>    3.217</td> <td> 0.002</td> <td>    0.315</td> <td>    1.314</td>\n",
       "</tr>\n",
       "</table>\n",
       "<table class=\"simpletable\">\n",
       "<tr>\n",
       "  <th>Omnibus:</th>       <td>297.532</td> <th>  Durbin-Watson:     </th> <td>   1.112</td> \n",
       "</tr>\n",
       "<tr>\n",
       "  <th>Prob(Omnibus):</th> <td> 0.000</td>  <th>  Jarque-Bera (JB):  </th> <td>36346.456</td>\n",
       "</tr>\n",
       "<tr>\n",
       "  <th>Skew:</th>          <td> 6.220</td>  <th>  Prob(JB):          </th> <td>    0.00</td> \n",
       "</tr>\n",
       "<tr>\n",
       "  <th>Kurtosis:</th>      <td>66.395</td>  <th>  Cond. No.          </th> <td>    1.00</td> \n",
       "</tr>\n",
       "</table><br/><br/>Notes:<br/>[1] R² is computed without centering (uncentered) since the model does not contain a constant.<br/>[2] Standard Errors assume that the covariance matrix of the errors is correctly specified."
      ],
      "text/plain": [
       "<class 'statsmodels.iolib.summary.Summary'>\n",
       "\"\"\"\n",
       "                                 OLS Regression Results                                \n",
       "=======================================================================================\n",
       "Dep. Variable:                    ctr   R-squared (uncentered):                   0.047\n",
       "Model:                            OLS   Adj. R-squared (uncentered):              0.043\n",
       "Method:                 Least Squares   F-statistic:                              10.35\n",
       "Date:                Sun, 07 Mar 2021   Prob (F-statistic):                     0.00150\n",
       "Time:                        17:46:12   Log-Likelihood:                         -380.54\n",
       "No. Observations:                 209   AIC:                                      763.1\n",
       "Df Residuals:                     208   BIC:                                      766.4\n",
       "Df Model:                           1                                                  \n",
       "Covariance Type:            nonrobust                                                  \n",
       "==============================================================================\n",
       "                 coef    std err          t      P>|t|      [0.025      0.975]\n",
       "------------------------------------------------------------------------------\n",
       "targeted       0.8146      0.253      3.217      0.002       0.315       1.314\n",
       "==============================================================================\n",
       "Omnibus:                      297.532   Durbin-Watson:                   1.112\n",
       "Prob(Omnibus):                  0.000   Jarque-Bera (JB):            36346.456\n",
       "Skew:                           6.220   Prob(JB):                         0.00\n",
       "Kurtosis:                      66.395   Cond. No.                         1.00\n",
       "==============================================================================\n",
       "\n",
       "Notes:\n",
       "[1] R² is computed without centering (uncentered) since the model does not contain a constant.\n",
       "[2] Standard Errors assume that the covariance matrix of the errors is correctly specified.\n",
       "\"\"\""
      ]
     },
     "execution_count": 138,
     "metadata": {},
     "output_type": "execute_result"
    }
   ],
   "source": [
    "model_ctr = sm.OLS(ad_data[\"ctr\"],ad_data[\"targeted\"]).fit()\n",
    "model_ctr.summary()"
   ]
  },
  {
   "cell_type": "code",
   "execution_count": 139,
   "metadata": {},
   "outputs": [
    {
     "data": {
      "image/png": "[encoded data removed]",
      "text/plain": [
       "<Figure size 720x360 with 1 Axes>"
      ]
     },
     "metadata": {
      "needs_background": "light"
     },
     "output_type": "display_data"
    }
   ],
   "source": [
    "plt.figure(figsize=(10, 5))\n",
    "ax = sns.boxenplot(x='targeted', y='cpc', data=ad_data)\n",
    "ax.set_title('CPC')\n",
    "plt.show()"
   ]
  },
  {
   "cell_type": "code",
   "execution_count": 140,
   "metadata": {},
   "outputs": [
    {
     "data": {
      "text/html": [
       "<table class=\"simpletable\">\n",
       "<caption>OLS Regression Results</caption>\n",
       "<tr>\n",
       "  <th>Dep. Variable:</th>           <td>cpc</td>       <th>  R-squared (uncentered):</th>      <td>   0.098</td>\n",
       "</tr>\n",
       "<tr>\n",
       "  <th>Model:</th>                   <td>OLS</td>       <th>  Adj. R-squared (uncentered):</th> <td>   0.093</td>\n",
       "</tr>\n",
       "<tr>\n",
       "  <th>Method:</th>             <td>Least Squares</td>  <th>  F-statistic:       </th>          <td>   22.49</td>\n",
       "</tr>\n",
       "<tr>\n",
       "  <th>Date:</th>             <td>Sun, 07 Mar 2021</td> <th>  Prob (F-statistic):</th>          <td>3.92e-06</td>\n",
       "</tr>\n",
       "<tr>\n",
       "  <th>Time:</th>                 <td>17:46:13</td>     <th>  Log-Likelihood:    </th>          <td> -425.21</td>\n",
       "</tr>\n",
       "<tr>\n",
       "  <th>No. Observations:</th>      <td>   209</td>      <th>  AIC:               </th>          <td>   852.4</td>\n",
       "</tr>\n",
       "<tr>\n",
       "  <th>Df Residuals:</th>          <td>   208</td>      <th>  BIC:               </th>          <td>   855.8</td>\n",
       "</tr>\n",
       "<tr>\n",
       "  <th>Df Model:</th>              <td>     1</td>      <th>                     </th>              <td> </td>   \n",
       "</tr>\n",
       "<tr>\n",
       "  <th>Covariance Type:</th>      <td>nonrobust</td>    <th>                     </th>              <td> </td>   \n",
       "</tr>\n",
       "</table>\n",
       "<table class=\"simpletable\">\n",
       "<tr>\n",
       "      <td></td>        <th>coef</th>     <th>std err</th>      <th>t</th>      <th>P>|t|</th>  <th>[0.025</th>    <th>0.975]</th>  \n",
       "</tr>\n",
       "<tr>\n",
       "  <th>targeted</th> <td>    1.4871</td> <td>    0.314</td> <td>    4.742</td> <td> 0.000</td> <td>    0.869</td> <td>    2.105</td>\n",
       "</tr>\n",
       "</table>\n",
       "<table class=\"simpletable\">\n",
       "<tr>\n",
       "  <th>Omnibus:</th>       <td> 7.607</td> <th>  Durbin-Watson:     </th> <td>   0.449</td>\n",
       "</tr>\n",
       "<tr>\n",
       "  <th>Prob(Omnibus):</th> <td> 0.022</td> <th>  Jarque-Bera (JB):  </th> <td>   7.393</td>\n",
       "</tr>\n",
       "<tr>\n",
       "  <th>Skew:</th>          <td> 0.443</td> <th>  Prob(JB):          </th> <td>  0.0248</td>\n",
       "</tr>\n",
       "<tr>\n",
       "  <th>Kurtosis:</th>      <td> 3.255</td> <th>  Cond. No.          </th> <td>    1.00</td>\n",
       "</tr>\n",
       "</table><br/><br/>Notes:<br/>[1] R² is computed without centering (uncentered) since the model does not contain a constant.<br/>[2] Standard Errors assume that the covariance matrix of the errors is correctly specified."
      ],
      "text/plain": [
       "<class 'statsmodels.iolib.summary.Summary'>\n",
       "\"\"\"\n",
       "                                 OLS Regression Results                                \n",
       "=======================================================================================\n",
       "Dep. Variable:                    cpc   R-squared (uncentered):                   0.098\n",
       "Model:                            OLS   Adj. R-squared (uncentered):              0.093\n",
       "Method:                 Least Squares   F-statistic:                              22.49\n",
       "Date:                Sun, 07 Mar 2021   Prob (F-statistic):                    3.92e-06\n",
       "Time:                        17:46:13   Log-Likelihood:                         -425.21\n",
       "No. Observations:                 209   AIC:                                      852.4\n",
       "Df Residuals:                     208   BIC:                                      855.8\n",
       "Df Model:                           1                                                  \n",
       "Covariance Type:            nonrobust                                                  \n",
       "==============================================================================\n",
       "                 coef    std err          t      P>|t|      [0.025      0.975]\n",
       "------------------------------------------------------------------------------\n",
       "targeted       1.4871      0.314      4.742      0.000       0.869       2.105\n",
       "==============================================================================\n",
       "Omnibus:                        7.607   Durbin-Watson:                   0.449\n",
       "Prob(Omnibus):                  0.022   Jarque-Bera (JB):                7.393\n",
       "Skew:                           0.443   Prob(JB):                       0.0248\n",
       "Kurtosis:                       3.255   Cond. No.                         1.00\n",
       "==============================================================================\n",
       "\n",
       "Notes:\n",
       "[1] R² is computed without centering (uncentered) since the model does not contain a constant.\n",
       "[2] Standard Errors assume that the covariance matrix of the errors is correctly specified.\n",
       "\"\"\""
      ]
     },
     "execution_count": 140,
     "metadata": {},
     "output_type": "execute_result"
    }
   ],
   "source": [
    "model_cpc = sm.OLS(ad_data[\"cpc\"],ad_data[\"targeted\"]).fit()\n",
    "model_cpc.summary()"
   ]
  },
  {
   "cell_type": "markdown",
   "metadata": {},
   "source": [
    "# Messenger vs fb/insta"
   ]
  },
  {
   "cell_type": "code",
   "execution_count": 148,
   "metadata": {},
   "outputs": [
    {
     "data": {
      "image/png": "[encoded data removed]",
      "text/plain": [
       "<Figure size 720x540 with 1 Axes>"
      ]
     },
     "metadata": {
      "needs_background": "light"
     },
     "output_type": "display_data"
    }
   ],
   "source": [
    "plt.figure(figsize=(10, 7.5))\n",
    "ax = sns.boxenplot(x='messenger_ad', y='ctr', data=ad_data)\n",
    "ax.set_title('CTR')\n",
    "plt.show()"
   ]
  },
  {
   "cell_type": "code",
   "execution_count": 143,
   "metadata": {},
   "outputs": [
    {
     "data": {
      "text/html": [
       "<table class=\"simpletable\">\n",
       "<caption>OLS Regression Results</caption>\n",
       "<tr>\n",
       "  <th>Dep. Variable:</th>           <td>ctr</td>       <th>  R-squared (uncentered):</th>      <td>   0.205</td>\n",
       "</tr>\n",
       "<tr>\n",
       "  <th>Model:</th>                   <td>OLS</td>       <th>  Adj. R-squared (uncentered):</th> <td>   0.202</td>\n",
       "</tr>\n",
       "<tr>\n",
       "  <th>Method:</th>             <td>Least Squares</td>  <th>  F-statistic:       </th>          <td>   53.80</td>\n",
       "</tr>\n",
       "<tr>\n",
       "  <th>Date:</th>             <td>Sun, 07 Mar 2021</td> <th>  Prob (F-statistic):</th>          <td>4.88e-12</td>\n",
       "</tr>\n",
       "<tr>\n",
       "  <th>Time:</th>                 <td>17:48:11</td>     <th>  Log-Likelihood:    </th>          <td> -361.58</td>\n",
       "</tr>\n",
       "<tr>\n",
       "  <th>No. Observations:</th>      <td>   209</td>      <th>  AIC:               </th>          <td>   725.2</td>\n",
       "</tr>\n",
       "<tr>\n",
       "  <th>Df Residuals:</th>          <td>   208</td>      <th>  BIC:               </th>          <td>   728.5</td>\n",
       "</tr>\n",
       "<tr>\n",
       "  <th>Df Model:</th>              <td>     1</td>      <th>                     </th>              <td> </td>   \n",
       "</tr>\n",
       "<tr>\n",
       "  <th>Covariance Type:</th>      <td>nonrobust</td>    <th>                     </th>              <td> </td>   \n",
       "</tr>\n",
       "</table>\n",
       "<table class=\"simpletable\">\n",
       "<tr>\n",
       "        <td></td>          <th>coef</th>     <th>std err</th>      <th>t</th>      <th>P>|t|</th>  <th>[0.025</th>    <th>0.975]</th>  \n",
       "</tr>\n",
       "<tr>\n",
       "  <th>messenger_ad</th> <td>    1.0406</td> <td>    0.142</td> <td>    7.335</td> <td> 0.000</td> <td>    0.761</td> <td>    1.320</td>\n",
       "</tr>\n",
       "</table>\n",
       "<table class=\"simpletable\">\n",
       "<tr>\n",
       "  <th>Omnibus:</th>       <td>260.355</td> <th>  Durbin-Watson:     </th> <td>   1.325</td> \n",
       "</tr>\n",
       "<tr>\n",
       "  <th>Prob(Omnibus):</th> <td> 0.000</td>  <th>  Jarque-Bera (JB):  </th> <td>19850.245</td>\n",
       "</tr>\n",
       "<tr>\n",
       "  <th>Skew:</th>          <td> 5.048</td>  <th>  Prob(JB):          </th> <td>    0.00</td> \n",
       "</tr>\n",
       "<tr>\n",
       "  <th>Kurtosis:</th>      <td>49.664</td>  <th>  Cond. No.          </th> <td>    1.00</td> \n",
       "</tr>\n",
       "</table><br/><br/>Notes:<br/>[1] R² is computed without centering (uncentered) since the model does not contain a constant.<br/>[2] Standard Errors assume that the covariance matrix of the errors is correctly specified."
      ],
      "text/plain": [
       "<class 'statsmodels.iolib.summary.Summary'>\n",
       "\"\"\"\n",
       "                                 OLS Regression Results                                \n",
       "=======================================================================================\n",
       "Dep. Variable:                    ctr   R-squared (uncentered):                   0.205\n",
       "Model:                            OLS   Adj. R-squared (uncentered):              0.202\n",
       "Method:                 Least Squares   F-statistic:                              53.80\n",
       "Date:                Sun, 07 Mar 2021   Prob (F-statistic):                    4.88e-12\n",
       "Time:                        17:48:11   Log-Likelihood:                         -361.58\n",
       "No. Observations:                 209   AIC:                                      725.2\n",
       "Df Residuals:                     208   BIC:                                      728.5\n",
       "Df Model:                           1                                                  \n",
       "Covariance Type:            nonrobust                                                  \n",
       "================================================================================\n",
       "                   coef    std err          t      P>|t|      [0.025      0.975]\n",
       "--------------------------------------------------------------------------------\n",
       "messenger_ad     1.0406      0.142      7.335      0.000       0.761       1.320\n",
       "==============================================================================\n",
       "Omnibus:                      260.355   Durbin-Watson:                   1.325\n",
       "Prob(Omnibus):                  0.000   Jarque-Bera (JB):            19850.245\n",
       "Skew:                           5.048   Prob(JB):                         0.00\n",
       "Kurtosis:                      49.664   Cond. No.                         1.00\n",
       "==============================================================================\n",
       "\n",
       "Notes:\n",
       "[1] R² is computed without centering (uncentered) since the model does not contain a constant.\n",
       "[2] Standard Errors assume that the covariance matrix of the errors is correctly specified.\n",
       "\"\"\""
      ]
     },
     "execution_count": 143,
     "metadata": {},
     "output_type": "execute_result"
    }
   ],
   "source": [
    "model_ctr = sm.OLS(ad_data[\"ctr\"],ad_data[\"messenger_ad\"]).fit()\n",
    "model_ctr.summary()"
   ]
  },
  {
   "cell_type": "code",
   "execution_count": 149,
   "metadata": {},
   "outputs": [
    {
     "data": {
      "image/png": "[encoded data removed]",
      "text/plain": [
       "<Figure size 720x540 with 1 Axes>"
      ]
     },
     "metadata": {
      "needs_background": "light"
     },
     "output_type": "display_data"
    }
   ],
   "source": [
    "plt.figure(figsize=(10, 7.5))\n",
    "ax = sns.boxenplot(x='messenger_ad', y='cpc', data=ad_data)\n",
    "ax.set_title('CPC')\n",
    "plt.show()"
   ]
  },
  {
   "cell_type": "code",
   "execution_count": 150,
   "metadata": {},
   "outputs": [
    {
     "data": {
      "text/html": [
       "<table class=\"simpletable\">\n",
       "<caption>OLS Regression Results</caption>\n",
       "<tr>\n",
       "  <th>Dep. Variable:</th>           <td>cpc</td>       <th>  R-squared (uncentered):</th>      <td>   0.309</td>\n",
       "</tr>\n",
       "<tr>\n",
       "  <th>Model:</th>                   <td>OLS</td>       <th>  Adj. R-squared (uncentered):</th> <td>   0.306</td>\n",
       "</tr>\n",
       "<tr>\n",
       "  <th>Method:</th>             <td>Least Squares</td>  <th>  F-statistic:       </th>          <td>   93.17</td>\n",
       "</tr>\n",
       "<tr>\n",
       "  <th>Date:</th>             <td>Sun, 07 Mar 2021</td> <th>  Prob (F-statistic):</th>          <td>1.89e-18</td>\n",
       "</tr>\n",
       "<tr>\n",
       "  <th>Time:</th>                 <td>17:49:40</td>     <th>  Log-Likelihood:    </th>          <td> -397.26</td>\n",
       "</tr>\n",
       "<tr>\n",
       "  <th>No. Observations:</th>      <td>   209</td>      <th>  AIC:               </th>          <td>   796.5</td>\n",
       "</tr>\n",
       "<tr>\n",
       "  <th>Df Residuals:</th>          <td>   208</td>      <th>  BIC:               </th>          <td>   799.9</td>\n",
       "</tr>\n",
       "<tr>\n",
       "  <th>Df Model:</th>              <td>     1</td>      <th>                     </th>              <td> </td>   \n",
       "</tr>\n",
       "<tr>\n",
       "  <th>Covariance Type:</th>      <td>nonrobust</td>    <th>                     </th>              <td> </td>   \n",
       "</tr>\n",
       "</table>\n",
       "<table class=\"simpletable\">\n",
       "<tr>\n",
       "        <td></td>          <th>coef</th>     <th>std err</th>      <th>t</th>      <th>P>|t|</th>  <th>[0.025</th>    <th>0.975]</th>  \n",
       "</tr>\n",
       "<tr>\n",
       "  <th>messenger_ad</th> <td>    1.6243</td> <td>    0.168</td> <td>    9.652</td> <td> 0.000</td> <td>    1.293</td> <td>    1.956</td>\n",
       "</tr>\n",
       "</table>\n",
       "<table class=\"simpletable\">\n",
       "<tr>\n",
       "  <th>Omnibus:</th>       <td>12.996</td> <th>  Durbin-Watson:     </th> <td>   0.585</td>\n",
       "</tr>\n",
       "<tr>\n",
       "  <th>Prob(Omnibus):</th> <td> 0.002</td> <th>  Jarque-Bera (JB):  </th> <td>  13.865</td>\n",
       "</tr>\n",
       "<tr>\n",
       "  <th>Skew:</th>          <td> 0.550</td> <th>  Prob(JB):          </th> <td>0.000975</td>\n",
       "</tr>\n",
       "<tr>\n",
       "  <th>Kurtosis:</th>      <td> 3.619</td> <th>  Cond. No.          </th> <td>    1.00</td>\n",
       "</tr>\n",
       "</table><br/><br/>Notes:<br/>[1] R² is computed without centering (uncentered) since the model does not contain a constant.<br/>[2] Standard Errors assume that the covariance matrix of the errors is correctly specified."
      ],
      "text/plain": [
       "<class 'statsmodels.iolib.summary.Summary'>\n",
       "\"\"\"\n",
       "                                 OLS Regression Results                                \n",
       "=======================================================================================\n",
       "Dep. Variable:                    cpc   R-squared (uncentered):                   0.309\n",
       "Model:                            OLS   Adj. R-squared (uncentered):              0.306\n",
       "Method:                 Least Squares   F-statistic:                              93.17\n",
       "Date:                Sun, 07 Mar 2021   Prob (F-statistic):                    1.89e-18\n",
       "Time:                        17:49:40   Log-Likelihood:                         -397.26\n",
       "No. Observations:                 209   AIC:                                      796.5\n",
       "Df Residuals:                     208   BIC:                                      799.9\n",
       "Df Model:                           1                                                  \n",
       "Covariance Type:            nonrobust                                                  \n",
       "================================================================================\n",
       "                   coef    std err          t      P>|t|      [0.025      0.975]\n",
       "--------------------------------------------------------------------------------\n",
       "messenger_ad     1.6243      0.168      9.652      0.000       1.293       1.956\n",
       "==============================================================================\n",
       "Omnibus:                       12.996   Durbin-Watson:                   0.585\n",
       "Prob(Omnibus):                  0.002   Jarque-Bera (JB):               13.865\n",
       "Skew:                           0.550   Prob(JB):                     0.000975\n",
       "Kurtosis:                       3.619   Cond. No.                         1.00\n",
       "==============================================================================\n",
       "\n",
       "Notes:\n",
       "[1] R² is computed without centering (uncentered) since the model does not contain a constant.\n",
       "[2] Standard Errors assume that the covariance matrix of the errors is correctly specified.\n",
       "\"\"\""
      ]
     },
     "execution_count": 150,
     "metadata": {},
     "output_type": "execute_result"
    }
   ],
   "source": [
    "model_cpc = sm.OLS(ad_data[\"cpc\"],ad_data[\"messenger_ad\"]).fit()\n",
    "model_cpc.summary()"
   ]
  },
  {
   "cell_type": "markdown",
   "metadata": {},
   "source": [
    "# Component Importance"
   ]
  },
  {
   "cell_type": "code",
   "execution_count": 78,
   "metadata": {},
   "outputs": [],
   "source": [
    "def get_top_cats(df, colname, k=5):\n",
    "    return df[colname].value_counts().head(k).index.tolist()\n",
    "def make_top_dummies(df, old_colname, new_colname, k=5):\n",
    "    topcats = get_top_cats(df, old_colname, k)\n",
    "    df_new = pd.DataFrame({'Ad ID': df['Ad ID']})\n",
    "    for i, cat in enumerate(topcats):\n",
    "        dummy_colname = new_colname + '_' + str(i)\n",
    "        df_new[dummy_colname] = np.where(df[old_colname]==cat, 1, 0)\n",
    "    return df_new"
   ]
  },
  {
   "cell_type": "code",
   "execution_count": 79,
   "metadata": {},
   "outputs": [],
   "source": [
    "img_d = make_top_dummies(ad_data, 'Image Hash', 'img', 5)\n",
    "vid_d = make_top_dummies(ad_data, 'Video Thumbnail URL', 'vid', 5)\n",
    "title_d = make_top_dummies(ad_data, 'Title', 'title', 5)\n",
    "body_d = make_top_dummies(ad_data, 'Body', 'body', 5)"
   ]
  },
  {
   "cell_type": "code",
   "execution_count": 86,
   "metadata": {},
   "outputs": [],
   "source": [
    "# join into df\n",
    "df_component = ad_data[['Ad ID', 'ctr', 'cpc']]\n",
    "for d in ['img_d', 'vid_d', 'title_d', 'body_d']:\n",
    "    df_component = df_component.merge(eval(d), on=\"Ad ID\")\n",
    "    \n",
    "del df_component['Ad ID']\n",
    "X = df_component[df_component.columns.difference(['ctr', 'cpc'])]"
   ]
  },
  {
   "cell_type": "code",
   "execution_count": 106,
   "metadata": {},
   "outputs": [],
   "source": [
    "# cpc = df_component.cpc\n",
    "# model_cpc = sm.OLS(cpc, X).fit()\n",
    "# model_cpc.summary()"
   ]
  },
  {
   "cell_type": "code",
   "execution_count": 116,
   "metadata": {},
   "outputs": [
    {
     "data": {
      "image/png": "[encoded data removed]",
      "text/plain": [
       "<Figure size 720x540 with 1 Axes>"
      ]
     },
     "metadata": {
      "needs_background": "light"
     },
     "output_type": "display_data"
    }
   ],
   "source": [
    "x = model_cpc.params.index.tolist()\n",
    "y = model_cpc.params.tolist()\n",
    "p = np.where(np.array(model_cpc.pvalues.tolist()) <= .05, \"sig at .05\", \"not sig\")\n",
    "df_cpc = pd.DataFrame({'x': x, 'y': y, 'p': p})\n",
    "\n",
    "plt.figure(figsize=(10, 7.5))\n",
    "ax = sns.barplot(x = 'x',y = 'y',hue = 'p', data = df_cpc)\n",
    "ax.set_title('CPC')\n",
    "plt.xticks(rotation=45)\n",
    "plt.show()"
   ]
  },
  {
   "cell_type": "code",
   "execution_count": 113,
   "metadata": {},
   "outputs": [],
   "source": [
    "# ctr = df_component.ctr\n",
    "# model_ctr = sm.OLS(ctr, X).fit()\n",
    "# model_ctr.summary()"
   ]
  },
  {
   "cell_type": "code",
   "execution_count": 115,
   "metadata": {},
   "outputs": [
    {
     "data": {
      "image/png": "[encoded data removed]",
      "text/plain": [
       "<Figure size 720x540 with 1 Axes>"
      ]
     },
     "metadata": {
      "needs_background": "light"
     },
     "output_type": "display_data"
    }
   ],
   "source": [
    "x = model_ctr.params.index.tolist()\n",
    "y = model_ctr.params.tolist()\n",
    "p = np.where(np.array(model_ctr.pvalues.tolist()) <= .05, \"sig at .05\", \"not sig\")\n",
    "df_ctr = pd.DataFrame({'x': x, 'y': y, 'p': p})\n",
    "\n",
    "plt.figure(figsize=(10, 7.5))\n",
    "ax = sns.barplot(x = 'x',y = 'y',hue = 'p', data = df_ctr)\n",
    "ax.set_title('CTR')\n",
    "plt.xticks(rotation=45)\n",
    "plt.show()"
   ]
  },
  {
   "cell_type": "code",
   "execution_count": null,
   "metadata": {},
   "outputs": [],
   "source": []
  }
 ],
 "metadata": {
  "kernelspec": {
   "display_name": "Python 3",
   "language": "python",
   "name": "python3"
  },
  "language_info": {
   "codemirror_mode": {
    "name": "ipython",
    "version": 3
   },
   "file_extension": ".py",
   "mimetype": "text/x-python",
   "name": "python",
   "nbconvert_exporter": "python",
   "pygments_lexer": "ipython3",
   "version": "3.8.5"
  }
 },
 "nbformat": 4,
 "nbformat_minor": 2
}
