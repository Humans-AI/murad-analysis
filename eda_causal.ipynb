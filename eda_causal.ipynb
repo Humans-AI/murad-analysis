{
 "cells": [
  {
   "cell_type": "code",
   "execution_count": 1,
   "metadata": {},
   "outputs": [],
   "source": [
    "import numpy as np\n",
    "import pandas as pd\n",
    "import matplotlib.pyplot as plt\n",
    "import seaborn as sns\n",
    "import os\n",
    "import statsmodels.api as sm"
   ]
  },
  {
   "cell_type": "code",
   "execution_count": 2,
   "metadata": {},
   "outputs": [],
   "source": [
    "plt.rcParams['figure.figsize'] = (10, 7.5)"
   ]
  },
  {
   "cell_type": "markdown",
   "metadata": {},
   "source": [
    "### a bunch of utils"
   ]
  },
  {
   "cell_type": "code",
   "execution_count": 3,
   "metadata": {},
   "outputs": [],
   "source": [
    "def get_data(data_files):\n",
    "    \n",
    "    \"\"\"\n",
    "    given a list of paths to pandas files having same columns, reads them in\n",
    "    \n",
    "    \"\"\"\n",
    "    # read in all the dfs\n",
    "    df_list = []\n",
    "    for fname in data_files:\n",
    "        df_list.append(pd.read_csv(fname))\n",
    "        \n",
    "    # merge rows of all the dfs\n",
    "    df = pd.concat(df_list)\n",
    "    \n",
    "    # drop columns with all nan\n",
    "    df = df.dropna(axis='columns',how='all')\n",
    "    \n",
    "    return df\n",
    "\n",
    "\n",
    "def merge(report,camp):\n",
    "    \"\"\"\n",
    "    merges report and camp on Ad ID\n",
    "    \n",
    "    \"\"\"\n",
    "    \n",
    "    def homogenise(a):\n",
    "        if str(a) == \"nan\":\n",
    "            return 0\n",
    "        else:\n",
    "            return int(a.split(\":\")[1])\n",
    "    \n",
    "    \n",
    "    # camp has a weird formatting compared to report. homogenise them...\n",
    "    camp['Ad ID'] = camp['Ad ID'].apply(homogenise)\n",
    "    \n",
    "    # merge on Ad ID\n",
    "    ad_data = report.merge(camp, on=\"Ad ID\")\n",
    "    # remove duplicate columns\n",
    "    ad_data = ad_data.loc[:,~ad_data.columns.duplicated()]\n",
    "    \n",
    "    return ad_data"
   ]
  },
  {
   "cell_type": "code",
   "execution_count": 4,
   "metadata": {
    "scrolled": false
   },
   "outputs": [
    {
     "name": "stderr",
     "output_type": "stream",
     "text": [
      "/Users/arvind/opt/anaconda3/lib/python3.8/site-packages/IPython/core/interactiveshell.py:3338: DtypeWarning: Columns (35,42,49,105,107,110,116,117,128,129,136,151,153,173,193,232,233,238,241,242,245,246,249,250,253,278,280,287,289,290,292,293,294,296,297,298,300,301,329,336,360,541,547) have mixed types.Specify dtype option on import or set low_memory=False.\n",
      "  if (await self.run_code(code, result,  async_=asy)):\n",
      "/Users/arvind/opt/anaconda3/lib/python3.8/site-packages/IPython/core/interactiveshell.py:3338: DtypeWarning: Columns (13,22,35,39,42,46,105,108,116,117,118,119,128,129,131,133,137,142,145,151,153,173,174,175,193,231,232,233,237,238,239,241,242,243,245,246,249,250,253,254,257,258,261,278,280,281,283,287,288,289,290,291,292,293,294,295,296,297,298,300,301,302,304,305,306,308,309,310,312,313,314,316,318,320,345,364,430,431,432,433,434,440,441,442,443,444,450,451,452,453,454,460,461,462,463,470,471,472,473,541,547) have mixed types.Specify dtype option on import or set low_memory=False.\n",
      "  if (await self.run_code(code, result,  async_=asy)):\n"
     ]
    }
   ],
   "source": [
    "campaign_files = [\"data/campaign_info_1-200.csv\",\"data/campaign_info_201-316.csv\"]\n",
    "campaign = get_data(campaign_files)"
   ]
  },
  {
   "cell_type": "code",
   "execution_count": 5,
   "metadata": {},
   "outputs": [],
   "source": [
    "report_files = [\"data/metrics_info_1-200.csv\",\"data/metrics_info_201-316.csv\"]\n",
    "report = get_data(report_files)"
   ]
  },
  {
   "cell_type": "code",
   "execution_count": 6,
   "metadata": {
    "scrolled": true
   },
   "outputs": [],
   "source": [
    "ad_data = merge(report, campaign)"
   ]
  },
  {
   "cell_type": "code",
   "execution_count": 7,
   "metadata": {},
   "outputs": [
    {
     "data": {
      "text/plain": [
       "['Ad Delivery',\n",
       " 'Ad ID',\n",
       " 'Ad Name_x',\n",
       " 'Ad Name_y',\n",
       " 'Ad Set Bid Strategy',\n",
       " 'Ad Set Budget',\n",
       " 'Ad Set Budget Type',\n",
       " 'Ad Set Daily Budget',\n",
       " 'Ad Set Delivery',\n",
       " 'Ad Set ID_x',\n",
       " 'Ad Set ID_y',\n",
       " 'Ad Set Lifetime Budget',\n",
       " 'Ad Set Lifetime Impressions',\n",
       " 'Ad Set Maximum Spend Limit',\n",
       " 'Ad Set Minimum Spend Limit',\n",
       " 'Ad Set Name_x',\n",
       " 'Ad Set Name_y',\n",
       " 'Ad Set Run Status',\n",
       " 'Ad Set Time Start',\n",
       " 'Ad Set Time Stop',\n",
       " 'Ad Status',\n",
       " 'Add End Card',\n",
       " 'Additional Body 1',\n",
       " 'Additional Body 1 Placement',\n",
       " 'Additional Custom Tracking Specs',\n",
       " 'Additional Image 1 Crops',\n",
       " 'Additional Image 1 Hash',\n",
       " 'Additional Image 1 Placement',\n",
       " 'Additional Image 2 Hash',\n",
       " 'Additional Image 2 Placement',\n",
       " 'Additional Image 3 Hash',\n",
       " 'Additional Image 3 Placement',\n",
       " 'Additional Image 4 Hash',\n",
       " 'Additional Image 4 Placement',\n",
       " 'Additional Image 5 Hash',\n",
       " 'Additional Image 5 Placement',\n",
       " 'Additional Video 1 Customization',\n",
       " 'Additional Video 1 ID',\n",
       " 'Additional Video 1 Placement',\n",
       " 'Additional Video 1 Thumbnail URL',\n",
       " 'Additional Video 2 Customization',\n",
       " 'Additional Video 2 ID',\n",
       " 'Additional Video 2 Placement',\n",
       " 'Additional Video 2 Thumbnail URL',\n",
       " 'Additional Video 3 ID',\n",
       " 'Additional Video 3 Placement',\n",
       " 'Additional Video 3 Thumbnail URL',\n",
       " 'Additional Video 4 ID',\n",
       " 'Additional Video 4 Placement',\n",
       " 'Additional Video 4 Thumbnail URL',\n",
       " 'Additional Video 5 ID',\n",
       " 'Additional Video 5 Placement',\n",
       " 'Additional Video 5 Thumbnail URL',\n",
       " 'Additional Video 6 ID',\n",
       " 'Additional Video 6 Placement',\n",
       " 'Additional Video 6 Thumbnail URL',\n",
       " 'Additional Video 7 ID',\n",
       " 'Additional Video 7 Placement',\n",
       " 'Additional Video 8 ID',\n",
       " 'Additional Video 8 Placement',\n",
       " 'Addresses',\n",
       " 'Age Max',\n",
       " 'Age Min',\n",
       " 'Amount Spent (USD)',\n",
       " 'App Link Destination',\n",
       " 'Attribution Spec',\n",
       " 'Audience Network Positions',\n",
       " 'Bid',\n",
       " 'Bid Amount',\n",
       " 'Bid Type',\n",
       " 'Billing Event',\n",
       " 'Body',\n",
       " 'Body Placement',\n",
       " 'Brand Safety Inventory Filtering Levels',\n",
       " 'Buying Type',\n",
       " 'CPC (All) (USD)',\n",
       " 'CPC (Cost per Link Click) (USD)',\n",
       " 'CPM (Cost per 1,000 Impressions) (USD)',\n",
       " 'CTR (All)',\n",
       " 'CTR (Link Click-Through Rate)',\n",
       " 'Call to Action',\n",
       " 'Call to Action Link',\n",
       " 'Campaign Bid Strategy',\n",
       " 'Campaign Daily Budget',\n",
       " 'Campaign ID_x',\n",
       " 'Campaign ID_y',\n",
       " 'Campaign Lifetime Budget',\n",
       " 'Campaign Name_x',\n",
       " 'Campaign Name_y',\n",
       " 'Campaign Objective',\n",
       " 'Campaign Spend Limit',\n",
       " 'Campaign Status',\n",
       " 'Carousel Delivery Mode',\n",
       " 'Clicks (All)',\n",
       " 'Connections',\n",
       " 'Conversion Tracking Pixels',\n",
       " 'Cost per 1,000 People Reached (USD)',\n",
       " 'Cost per Unique Link Click (USD)',\n",
       " 'Countries',\n",
       " 'Creative Optimization',\n",
       " 'Creative Type',\n",
       " 'Custom Audiences',\n",
       " 'Deep link to website',\n",
       " 'Destination Type',\n",
       " 'Device Platforms',\n",
       " 'Display Link',\n",
       " 'Dynamic Creative Ad Format',\n",
       " 'Dynamic Creative Call to Action',\n",
       " 'Ends',\n",
       " 'Excluded Custom Audiences',\n",
       " 'Excluded Publisher Categories',\n",
       " 'Export & Import Issue',\n",
       " 'Export & Import Issue Code',\n",
       " 'Export & Import Issue Details',\n",
       " 'Facebook Positions',\n",
       " 'Flexible Exclusions',\n",
       " 'Flexible Inclusions',\n",
       " 'Frequency',\n",
       " 'Friends of Connections',\n",
       " 'Gender',\n",
       " 'Image Crops',\n",
       " 'Image File Name',\n",
       " 'Image Hash',\n",
       " 'Image Placement',\n",
       " 'Impressions',\n",
       " 'Instagram Account ID',\n",
       " 'Instagram Platform Image Hash',\n",
       " 'Instagram Platform Image URL',\n",
       " 'Instagram Positions',\n",
       " 'Instagram Preview Link',\n",
       " 'Link',\n",
       " 'Link Description',\n",
       " 'Link Object ID',\n",
       " 'Link Placement',\n",
       " 'Locales',\n",
       " 'Location Types',\n",
       " 'Messenger Positions',\n",
       " 'Mockup ID',\n",
       " 'Offer ID',\n",
       " 'Optimization Goal',\n",
       " 'Optimized Ad Creative',\n",
       " 'Optimized Conversion Tracking Pixels',\n",
       " 'Optimized Event',\n",
       " 'Optimized Pixel Rule',\n",
       " 'Permalink',\n",
       " 'Post Click Item Description',\n",
       " 'Post Click Item Headline',\n",
       " 'Preview Link',\n",
       " 'Product 1 - Description',\n",
       " 'Product 1 - Image Crops',\n",
       " 'Product 1 - Image Hash',\n",
       " 'Product 1 - Link',\n",
       " 'Product 1 - Name',\n",
       " 'Product 2 - Description',\n",
       " 'Product 2 - Image Crops',\n",
       " 'Product 2 - Image Hash',\n",
       " 'Product 2 - Link',\n",
       " 'Product 2 - Name',\n",
       " 'Product 3 - Description',\n",
       " 'Product 3 - Image Crops',\n",
       " 'Product 3 - Image Hash',\n",
       " 'Product 3 - Link',\n",
       " 'Product 3 - Name',\n",
       " 'Product 4 - Description',\n",
       " 'Product 4 - Image Hash',\n",
       " 'Product 4 - Link',\n",
       " 'Product 4 - Name',\n",
       " 'Product 5 - Description',\n",
       " 'Product 5 - Image Hash',\n",
       " 'Product 5 - Link',\n",
       " 'Product 5 - Name',\n",
       " 'Product Set ID',\n",
       " 'Publisher Platforms',\n",
       " 'Reach',\n",
       " 'Regions',\n",
       " 'Reporting Ends',\n",
       " 'Reporting Starts',\n",
       " 'Retailer IDs',\n",
       " 'Starts',\n",
       " 'Story ID',\n",
       " 'Targeting Optimization',\n",
       " 'Targeting Relaxation',\n",
       " 'ThruPlays',\n",
       " 'Title',\n",
       " 'Title Placement',\n",
       " 'URL Tags',\n",
       " 'Unified Interests',\n",
       " 'Unique CTR (All)',\n",
       " 'Unique CTR (Link Click-Through Rate)',\n",
       " 'Use Accelerated Delivery',\n",
       " 'Use Page as Actor',\n",
       " 'User Device',\n",
       " 'User Operating System',\n",
       " 'Video Average Play Time',\n",
       " 'Video Customization',\n",
       " 'Video File Name',\n",
       " 'Video ID',\n",
       " 'Video Placement',\n",
       " 'Video Plays',\n",
       " 'Video Plays at 25%',\n",
       " 'Video Plays at 50%',\n",
       " 'Video Plays at 75%',\n",
       " 'Video Retargeting',\n",
       " 'Video Thumbnail URL',\n",
       " 'Website Purchase ROAS (Return on Ad Spend)',\n",
       " 'Website Purchases']"
      ]
     },
     "execution_count": 7,
     "metadata": {},
     "output_type": "execute_result"
    }
   ],
   "source": [
    "sorted(ad_data.columns)"
   ]
  },
  {
   "cell_type": "code",
   "execution_count": 8,
   "metadata": {},
   "outputs": [],
   "source": [
    "# collection of different columns split here for ease of access\n",
    "# don't be alarmed by the _x in some names, it just means we had them in both report and campaign csv!\n",
    "\n",
    "metric_cols = ['Website Purchases','Website Purchase ROAS (Return on Ad Spend)',\n",
    "              'Clicks (All)','CPC (All) (USD)','CTR (All)','CPM (Cost per 1,000 Impressions) (USD)',\n",
    "              'Cost per 1,000 People Reached (USD)', 'Amount Spent (USD)']\n",
    "\n",
    "text_cols = ['Title', 'Body', 'Display Link','Link Description', 'Ad Set Name_x', 'Campaign Name_x']\n",
    "\n",
    "video_play_cols = ['Video Plays at 25%', 'Video Plays at 50%', 'Video Plays at 75%',\n",
    "              'ThruPlays', 'Video Average Play Time']\n",
    "             \n",
    "media_cols = ['Image Hash','Video Thumbnail URL']\n",
    "\n",
    "meta_cols = ['Ad ID','Ad Name_x','Campaign ID_x','Ad Set ID_x','Starts','Ad Set Time Start','Ad Status','Ad Delivery','Reporting Ends']\n",
    "\n",
    "feature_cols = ['Gender', 'Age Min', 'Age Max','Messenger Positions']"
   ]
  },
  {
   "cell_type": "code",
   "execution_count": 9,
   "metadata": {},
   "outputs": [],
   "source": [
    "cols = metric_cols + text_cols + video_play_cols + media_cols + meta_cols + feature_cols"
   ]
  },
  {
   "cell_type": "code",
   "execution_count": 10,
   "metadata": {},
   "outputs": [],
   "source": [
    "ad_data = ad_data[cols] # we have 32 columns now."
   ]
  },
  {
   "cell_type": "code",
   "execution_count": 11,
   "metadata": {},
   "outputs": [],
   "source": [
    "# inferring start year, month\n",
    "ad_data['start_date'] = pd.to_datetime(ad_data['Starts'], format='%Y-%m-%d')\n",
    "ad_data['start_month_yr'] = ad_data['start_date'].dt.to_period('M')\n",
    "ad_data['start_month'] = ad_data['start_date'].dt.month\n",
    "ad_data['start_yr'] = ad_data['start_date'].dt.year"
   ]
  },
  {
   "cell_type": "code",
   "execution_count": 12,
   "metadata": {},
   "outputs": [
    {
     "data": {
      "text/plain": [
       "Image    10346\n",
       "GIF       2880\n",
       "Video     1257\n",
       "UNK        322\n",
       "Name: media_type, dtype: int64"
      ]
     },
     "execution_count": 12,
     "metadata": {},
     "output_type": "execute_result"
    }
   ],
   "source": [
    "# inferring media type\n",
    "def get_media_type(name,im,vid):\n",
    "    if \"Video\" in name:\n",
    "        return \"Video\"\n",
    "    elif \"Static\" in name:\n",
    "        return \"Image\"\n",
    "    elif \"GIF\" in name:\n",
    "        return \"GIF\"\n",
    "    else:\n",
    "        if str(im) != \"nan\":\n",
    "            return \"Image\"\n",
    "        elif str(vid) != \"nan\":\n",
    "            return \"Video\"\n",
    "        else:\n",
    "            return \"UNK\"\n",
    "ad_data[\"media_type\"] = ad_data.apply(lambda x: get_media_type(x['Ad Name_x'], x['Image Hash'], x['Video Thumbnail URL']), axis=1)\n",
    "ad_data[\"media_type\"].value_counts(dropna=False)"
   ]
  },
  {
   "cell_type": "markdown",
   "metadata": {},
   "source": [
    "# Causal data columns\n",
    "\n",
    "- only 2020\n",
    "- take a subset of ad sets that have a decent strength \n",
    "- features to match\n",
    "    - start month\n",
    "    - display link\n",
    "    - gender target\n",
    "    - messenger\n",
    "    - campaign name\n",
    "    - ad set name\n",
    "    - text: body features - 3 ideas : tf-idf, topic models, word clusters\n",
    "- outcome\n",
    "    - ctr\n",
    "- compare\n",
    "    - media_type"
   ]
  },
  {
   "cell_type": "code",
   "execution_count": 13,
   "metadata": {},
   "outputs": [],
   "source": [
    "causal_data = ad_data[ad_data[\"start_yr\"]==2020]"
   ]
  },
  {
   "cell_type": "code",
   "execution_count": 14,
   "metadata": {},
   "outputs": [
    {
     "data": {
      "text/plain": [
       "(4289, 39)"
      ]
     },
     "execution_count": 14,
     "metadata": {},
     "output_type": "execute_result"
    }
   ],
   "source": [
    "causal_data.shape"
   ]
  },
  {
   "cell_type": "code",
   "execution_count": 18,
   "metadata": {},
   "outputs": [],
   "source": [
    "causal_cols = ['CTR (All)', \n",
    "               'CPC (All) (USD)',\n",
    "               'Display Link', \n",
    "               'Campaign Name_x', \n",
    "               'Ad Set Name_x', \n",
    "               'Body', \n",
    "               'Ad ID',\n",
    "               'media_type',\n",
    "               'start_month',\n",
    "               'Gender',\n",
    "               'Messenger Positions']"
   ]
  },
  {
   "cell_type": "code",
   "execution_count": 19,
   "metadata": {},
   "outputs": [],
   "source": [
    "causal_data = causal_data[causal_cols]"
   ]
  },
  {
   "cell_type": "code",
   "execution_count": 20,
   "metadata": {},
   "outputs": [],
   "source": [
    "replace_nans = lambda name: str(name) != \"nan\"\n",
    "convert_nans = lambda name: str(name)"
   ]
  },
  {
   "cell_type": "code",
   "execution_count": 21,
   "metadata": {},
   "outputs": [
    {
     "name": "stderr",
     "output_type": "stream",
     "text": [
      "<ipython-input-21-af2f55143298>:1: SettingWithCopyWarning: \n",
      "A value is trying to be set on a copy of a slice from a DataFrame.\n",
      "Try using .loc[row_indexer,col_indexer] = value instead\n",
      "\n",
      "See the caveats in the documentation: https://pandas.pydata.org/pandas-docs/stable/user_guide/indexing.html#returning-a-view-versus-a-copy\n",
      "  causal_data[\"Display Link\"] = causal_data[\"Display Link\"].apply(replace_nans)\n",
      "<ipython-input-21-af2f55143298>:2: SettingWithCopyWarning: \n",
      "A value is trying to be set on a copy of a slice from a DataFrame.\n",
      "Try using .loc[row_indexer,col_indexer] = value instead\n",
      "\n",
      "See the caveats in the documentation: https://pandas.pydata.org/pandas-docs/stable/user_guide/indexing.html#returning-a-view-versus-a-copy\n",
      "  causal_data[\"Messenger Positions\"] = causal_data[\"Messenger Positions\"].apply(replace_nans)\n"
     ]
    }
   ],
   "source": [
    "causal_data[\"Display Link\"] = causal_data[\"Display Link\"].apply(replace_nans)\n",
    "causal_data[\"Messenger Positions\"] = causal_data[\"Messenger Positions\"].apply(replace_nans)"
   ]
  },
  {
   "cell_type": "code",
   "execution_count": 22,
   "metadata": {},
   "outputs": [
    {
     "name": "stdout",
     "output_type": "stream",
     "text": [
      "{0: 'All', -1: nan, 2: 'Women', 1: 'Men'}\n"
     ]
    },
    {
     "name": "stderr",
     "output_type": "stream",
     "text": [
      "<ipython-input-22-00d350b229a4>:3: SettingWithCopyWarning: \n",
      "A value is trying to be set on a copy of a slice from a DataFrame.\n",
      "Try using .loc[row_indexer,col_indexer] = value instead\n",
      "\n",
      "See the caveats in the documentation: https://pandas.pydata.org/pandas-docs/stable/user_guide/indexing.html#returning-a-view-versus-a-copy\n",
      "  causal_data[\"Gender\"] = causal_data[\"Gender\"].astype(\"category\").cat.codes\n"
     ]
    }
   ],
   "source": [
    "# convert gender to categorical\n",
    "gender_map = dict(zip(causal_data[\"Gender\"].astype(\"category\").cat.codes, causal_data[\"Gender\"]))\n",
    "causal_data[\"Gender\"] = causal_data[\"Gender\"].astype(\"category\").cat.codes\n",
    "print(gender_map)"
   ]
  },
  {
   "cell_type": "code",
   "execution_count": 23,
   "metadata": {},
   "outputs": [
    {
     "name": "stdout",
     "output_type": "stream",
     "text": [
      "{0: 'DR_Holiday 2020', 8: 'DR_Promotions_4', 10: 'DR_Skin Consultation', 1: 'DR_Kit Acquisition_Acne', 2: 'DR_Kit Acquisition_RLR', 3: 'DR_Kit Acquisition_RSG', 6: 'DR_Product_Retinol 14D Challenge', 4: 'DR_New Customer Exclusive_2020', 5: 'DR_Product_2020', 9: 'DR_Promotions_Prospecting', 7: 'DR_Promotions_3'}\n"
     ]
    },
    {
     "name": "stderr",
     "output_type": "stream",
     "text": [
      "<ipython-input-23-111247b6648b>:3: SettingWithCopyWarning: \n",
      "A value is trying to be set on a copy of a slice from a DataFrame.\n",
      "Try using .loc[row_indexer,col_indexer] = value instead\n",
      "\n",
      "See the caveats in the documentation: https://pandas.pydata.org/pandas-docs/stable/user_guide/indexing.html#returning-a-view-versus-a-copy\n",
      "  causal_data[\"Campaign Name_x\"] = causal_data[\"Campaign Name_x\"].astype(\"category\").cat.codes\n"
     ]
    }
   ],
   "source": [
    "# convert campaign name to categorical\n",
    "campaign_Name_x_map = dict(zip(causal_data[\"Campaign Name_x\"].astype(\"category\").cat.codes, causal_data[\"Campaign Name_x\"]))\n",
    "causal_data[\"Campaign Name_x\"] = causal_data[\"Campaign Name_x\"].astype(\"category\").cat.codes\n",
    "print(campaign_Name_x_map)"
   ]
  },
  {
   "cell_type": "code",
   "execution_count": 24,
   "metadata": {
    "scrolled": true
   },
   "outputs": [
    {
     "name": "stderr",
     "output_type": "stream",
     "text": [
      "<ipython-input-24-f8de75467b81>:12: SettingWithCopyWarning: \n",
      "A value is trying to be set on a copy of a slice from a DataFrame.\n",
      "Try using .loc[row_indexer,col_indexer] = value instead\n",
      "\n",
      "See the caveats in the documentation: https://pandas.pydata.org/pandas-docs/stable/user_guide/indexing.html#returning-a-view-versus-a-copy\n",
      "  causal_data[\"ret_pro\"] = causal_data[\"Ad Set Name_x\"].apply(ret_pro)\n"
     ]
    },
    {
     "data": {
      "text/plain": [
       "0    2654\n",
       "1    1635\n",
       "Name: ret_pro, dtype: int64"
      ]
     },
     "execution_count": 24,
     "metadata": {},
     "output_type": "execute_result"
    }
   ],
   "source": [
    "# inferring retargeting or prospecting\n",
    "\n",
    "def ret_pro(name):\n",
    "    if \"Retargeting\" in name:\n",
    "        return 1\n",
    "    elif \"Prospecting\" in name:\n",
    "        return 0\n",
    "    else:\n",
    "        return -1\n",
    "# a future step is to identify who they are prospecting and retargeting\n",
    "\n",
    "causal_data[\"ret_pro\"] = causal_data[\"Ad Set Name_x\"].apply(ret_pro)\n",
    "causal_data[\"ret_pro\"].value_counts(dropna=False)"
   ]
  },
  {
   "cell_type": "code",
   "execution_count": 25,
   "metadata": {
    "scrolled": true
   },
   "outputs": [],
   "source": [
    "causal_data_notext = causal_data.drop([\"Ad Set Name_x\",\"Body\"],axis=1)\n",
    "causal_data_notext.rename(columns={'Ad ID':'id',\n",
    "                            'CTR (All)':\"ctr\",\n",
    "                            'CPC (All) (USD)': \"cpc\",\n",
    "                            'Campaign Name_x':\"campaign\",\n",
    "                            'Display Link':\"link\",\n",
    "                            'Gender':\"gender\",\n",
    "                            'Messenger Positions':\"messenger\"}, inplace=True)"
   ]
  },
  {
   "cell_type": "code",
   "execution_count": 26,
   "metadata": {
    "scrolled": true
   },
   "outputs": [
    {
     "data": {
      "text/plain": [
       "0    2313\n",
       "1    1960\n",
       "Name: media_type, dtype: int64"
      ]
     },
     "execution_count": 26,
     "metadata": {},
     "output_type": "execute_result"
    }
   ],
   "source": [
    "causal_data_notext = causal_data_notext[causal_data_notext.media_type != \"UNK\"]\n",
    "media_mapper = {\"Image\":0,\"Video\":1,\"GIF\":1}\n",
    "causal_data_notext[\"media_type\"] = causal_data_notext[\"media_type\"].apply(media_mapper.get)\n",
    "causal_data_notext[\"media_type\"].value_counts(dropna=False)"
   ]
  },
  {
   "cell_type": "code",
   "execution_count": 27,
   "metadata": {},
   "outputs": [],
   "source": [
    "causal_data_notext.to_csv(\"data/causal_notext.csv\",index=False)"
   ]
  },
  {
   "cell_type": "markdown",
   "metadata": {},
   "source": [
    "## Feature analysis"
   ]
  },
  {
   "cell_type": "code",
   "execution_count": 28,
   "metadata": {},
   "outputs": [],
   "source": [
    "def ttest_binary(df_cons,feat_name,metric_name):\n",
    "\n",
    "    df_media = df_cons[[metric_name, feat_name]]\n",
    "\n",
    "    from scipy.stats import ttest_ind\n",
    "\n",
    "    cat1 = df_cons[df_cons[feat_name]==True]\n",
    "    cat2 = df_cons[df_cons[feat_name]==False]\n",
    "\n",
    "    print(ttest_ind(cat1[metric_name], cat2[metric_name]))\n",
    "    print(\"Class 1: \",cat1[metric_name].mean(),\" Length: \",len(cat1[metric_name]))\n",
    "    print(\"Class 0: \",cat2[metric_name].mean(),\" Length: \",len(cat2[metric_name]))\n",
    "\n",
    "    # get the means and t test. get the plot.\n",
    "    plt.figure(figsize=(10, 5))\n",
    "    ax = sns.boxenplot(x=feat_name, y=metric_name, data=df_media, showfliers=False)\n",
    "    ax.set_title(metric_name)\n",
    "    plt.show()"
   ]
  },
  {
   "cell_type": "markdown",
   "metadata": {},
   "source": [
    "### retargeting, prospecting"
   ]
  },
  {
   "cell_type": "code",
   "execution_count": 32,
   "metadata": {},
   "outputs": [
    {
     "name": "stdout",
     "output_type": "stream",
     "text": [
      "Ttest_indResult(statistic=15.112172409138967, pvalue=2.6354028584762075e-50)\n",
      "Class 1:  1.0496133223076924  Length:  1625\n",
      "Class 0:  0.6287893226812682  Length:  2648\n"
     ]
    },
    {
     "data": {
      "image/png": "[encoded data removed]",
      "text/plain": [
       "<Figure size 720x360 with 1 Axes>"
      ]
     },
     "metadata": {
      "needs_background": "light"
     },
     "output_type": "display_data"
    },
    {
     "name": "stdout",
     "output_type": "stream",
     "text": [
      "Ttest_indResult(statistic=9.032424431408913, pvalue=2.4902436510120053e-19)\n",
      "Class 1:  1.9723838710769253  Length:  1625\n",
      "Class 0:  1.5841783205211464  Length:  2648\n"
     ]
    },
    {
     "data": {
      "image/png": "[encoded data removed]",
      "text/plain": [
       "<Figure size 720x360 with 1 Axes>"
      ]
     },
     "metadata": {
      "needs_background": "light"
     },
     "output_type": "display_data"
    }
   ],
   "source": [
    "ttest_binary(causal_data_notext, \"ret_pro\", \"ctr\")\n",
    "ttest_binary(causal_data_notext, \"ret_pro\", \"cpc\")"
   ]
  },
  {
   "cell_type": "markdown",
   "metadata": {},
   "source": [
    "### display link"
   ]
  },
  {
   "cell_type": "code",
   "execution_count": 33,
   "metadata": {
    "scrolled": false
   },
   "outputs": [
    {
     "name": "stdout",
     "output_type": "stream",
     "text": [
      "Ttest_indResult(statistic=-6.2783318382995486, pvalue=3.7630650640148204e-10)\n",
      "Class 1:  0.7603106565171173  Length:  3856\n",
      "Class 0:  1.052512910503598  Length:  417\n"
     ]
    },
    {
     "data": {
      "image/png": "[encoded data removed]",
      "text/plain": [
       "<Figure size 720x360 with 1 Axes>"
      ]
     },
     "metadata": {
      "needs_background": "light"
     },
     "output_type": "display_data"
    }
   ],
   "source": [
    "ttest_binary(causal_data_notext, \"link\", \"ctr\")"
   ]
  },
  {
   "cell_type": "markdown",
   "metadata": {},
   "source": [
    "### media type"
   ]
  },
  {
   "cell_type": "code",
   "execution_count": 34,
   "metadata": {
    "scrolled": false
   },
   "outputs": [
    {
     "name": "stdout",
     "output_type": "stream",
     "text": [
      "Ttest_indResult(statistic=10.344547821471545, pvalue=8.67126630662209e-25)\n",
      "Class 1:  0.9428317888622462  Length:  1960\n",
      "Class 0:  0.6583248893385202  Length:  2313\n"
     ]
    },
    {
     "data": {
      "image/png": "[encoded data removed]",
      "text/plain": [
       "<Figure size 720x360 with 1 Axes>"
      ]
     },
     "metadata": {
      "needs_background": "light"
     },
     "output_type": "display_data"
    }
   ],
   "source": [
    "ttest_binary(causal_data_notext, \"media_type\", \"ctr\")"
   ]
  },
  {
   "cell_type": "markdown",
   "metadata": {},
   "source": [
    "## quick analysis on retargeting vs prospective predictability"
   ]
  },
  {
   "cell_type": "code",
   "execution_count": 35,
   "metadata": {},
   "outputs": [],
   "source": [
    "msk = np.random.rand(len(causal_data_notext)) < 0.8\n",
    "train = causal_data_notext[msk]\n",
    "test = causal_data_notext[~msk]"
   ]
  },
  {
   "cell_type": "code",
   "execution_count": 36,
   "metadata": {},
   "outputs": [
    {
     "name": "stdout",
     "output_type": "stream",
     "text": [
      "Accuracy with gender:  0.9151162790697674\n"
     ]
    }
   ],
   "source": [
    "feature_cols_master = ['link', 'campaign', 'media_type', 'start_month','messenger','gender']\n",
    "\n",
    "X_train = train.loc[:, feature_cols_master]\n",
    "y_train = train.ret_pro\n",
    "X_test = test.loc[:, feature_cols_master]\n",
    "y_test = test.ret_pro\n",
    "\n",
    "from sklearn.linear_model import LogisticRegression\n",
    "logreg = LogisticRegression()\n",
    "logreg.fit(X_train, y_train)\n",
    "\n",
    "preds = logreg.predict(X_test)\n",
    "acc_g = np.mean(preds==y_test)\n",
    "print(\"Accuracy with gender: \",np.mean(preds==y_test))"
   ]
  },
  {
   "cell_type": "code",
   "execution_count": 37,
   "metadata": {},
   "outputs": [
    {
     "name": "stdout",
     "output_type": "stream",
     "text": [
      "['campaign', 'media_type', 'start_month', 'messenger', 'gender']\n",
      "Accuracy without link:  0.9151162790697674\n",
      "['link', 'media_type', 'start_month', 'messenger', 'gender']\n",
      "Accuracy without campaign:  0.8639534883720931\n",
      "['link', 'campaign', 'start_month', 'messenger', 'gender']\n",
      "Accuracy without media_type:  0.9151162790697674\n",
      "['link', 'campaign', 'media_type', 'messenger', 'gender']\n",
      "Accuracy without start_month:  0.9162790697674419\n",
      "['link', 'campaign', 'media_type', 'start_month', 'gender']\n",
      "Accuracy without messenger:  0.9197674418604651\n",
      "['link', 'campaign', 'media_type', 'start_month', 'messenger']\n",
      "Accuracy without gender:  0.7011627906976744\n"
     ]
    }
   ],
   "source": [
    "accs = []\n",
    "for feat in feature_cols_master:\n",
    "    feature_cols = [ff for ff in feature_cols_master if ff != feat]\n",
    "    print(feature_cols)\n",
    "\n",
    "    X_train = train.loc[:, feature_cols]\n",
    "    y_train = train.ret_pro\n",
    "    X_test = test.loc[:, feature_cols]\n",
    "    y_test = test.ret_pro\n",
    "\n",
    "    from sklearn.linear_model import LogisticRegression\n",
    "    logreg = LogisticRegression()\n",
    "    logreg.fit(X_train, y_train)\n",
    "\n",
    "    preds = logreg.predict(X_test)\n",
    "    acc_wg = np.mean(preds==y_test)\n",
    "    accs.append(acc_wg)\n",
    "    print(\"Accuracy without {}: \".format(feat),np.mean(preds==y_test))"
   ]
  },
  {
   "cell_type": "code",
   "execution_count": 38,
   "metadata": {
    "scrolled": false
   },
   "outputs": [
    {
     "data": {
      "text/plain": [
       "[Text(0, 0, 'all'),\n",
       " Text(1, 0, 'without link'),\n",
       " Text(2, 0, 'without campaign'),\n",
       " Text(3, 0, 'without media_type'),\n",
       " Text(4, 0, 'without start_month'),\n",
       " Text(5, 0, 'without messenger'),\n",
       " Text(6, 0, 'without gender')]"
      ]
     },
     "execution_count": 38,
     "metadata": {},
     "output_type": "execute_result"
    },
    {
     "data": {
      "image/png": "[encoded data removed]",
      "text/plain": [
       "<Figure size 864x576 with 1 Axes>"
      ]
     },
     "metadata": {
      "needs_background": "light"
     },
     "output_type": "display_data"
    }
   ],
   "source": [
    "# Bring some raw data.\n",
    "frequencies = [acc_g] + accs\n",
    "# In my original code I create a series and run on that, \n",
    "# so for consistency I create a series from the list.\n",
    "freq_series = pd.Series(frequencies)\n",
    "\n",
    "x_labels = [\"all\"] + [\"without %s\" % i for i in feature_cols_master]\n",
    "\n",
    "# Plot the figure.\n",
    "plt.figure(figsize=(12, 8))\n",
    "ax = freq_series.plot(kind='bar')\n",
    "ax.set_title('Logreg accuracy')\n",
    "ax.set_xlabel('Features')\n",
    "ax.set_ylabel('Accuracy')\n",
    "ax.set_xticklabels(x_labels)"
   ]
  },
  {
   "cell_type": "code",
   "execution_count": 39,
   "metadata": {
    "scrolled": true
   },
   "outputs": [
    {
     "data": {
      "text/plain": [
       "-0.7614560070071145"
      ]
     },
     "execution_count": 39,
     "metadata": {},
     "output_type": "execute_result"
    }
   ],
   "source": [
    "# gender is a cultprit - highly corelated with output\n",
    "causal_data_notext['gender'].corr(causal_data_notext['ret_pro'])"
   ]
  },
  {
   "cell_type": "markdown",
   "metadata": {},
   "source": [
    "# Text analysis"
   ]
  },
  {
   "cell_type": "code",
   "execution_count": 40,
   "metadata": {},
   "outputs": [
    {
     "name": "stderr",
     "output_type": "stream",
     "text": [
      "<ipython-input-40-7b8edbcd3b4a>:1: SettingWithCopyWarning: \n",
      "A value is trying to be set on a copy of a slice from a DataFrame.\n",
      "Try using .loc[row_indexer,col_indexer] = value instead\n",
      "\n",
      "See the caveats in the documentation: https://pandas.pydata.org/pandas-docs/stable/user_guide/indexing.html#returning-a-view-versus-a-copy\n",
      "  causal_data[\"Body\"] = causal_data[\"Body\"].apply(convert_nans)\n"
     ]
    }
   ],
   "source": [
    "causal_data[\"Body\"] = causal_data[\"Body\"].apply(convert_nans)"
   ]
  },
  {
   "cell_type": "code",
   "execution_count": 41,
   "metadata": {},
   "outputs": [],
   "source": [
    "# idea:\n",
    "\n",
    "# a function that returns a domain vocabulary - ie words that significantly appear more frequently in these\n",
    "# docs as compared to a general domain (could be english / or ads in general)"
   ]
  },
  {
   "cell_type": "code",
   "execution_count": 42,
   "metadata": {},
   "outputs": [],
   "source": [
    "### questions in text\n",
    "# using numbers\n",
    "# length of text\n",
    "# having domain words vs not\n",
    "# having code vs not\n",
    "# where is text in the image?\n",
    "\n",
    "# visual\n",
    "# color histogram\n",
    "# background vs foreground\n",
    "# model vs not"
   ]
  },
  {
   "cell_type": "markdown",
   "metadata": {},
   "source": [
    "### body length and number of numerics"
   ]
  },
  {
   "cell_type": "code",
   "execution_count": 43,
   "metadata": {},
   "outputs": [],
   "source": [
    "from nltk.tokenize import RegexpTokenizer\n",
    "def get_counts(sent):\n",
    "    sent = str(sent)\n",
    "    tokenizer = RegexpTokenizer(r'\\w+')\n",
    "    sent_no_punc = tokenizer.tokenize(sent)\n",
    "    return len(sent_no_punc)"
   ]
  },
  {
   "cell_type": "code",
   "execution_count": 44,
   "metadata": {},
   "outputs": [],
   "source": [
    "def get_counts_numbers(sent):\n",
    "    sent = str(sent)\n",
    "    tokenizer = RegexpTokenizer(r'\\w+')\n",
    "    sent_no_punc = tokenizer.tokenize(sent)\n",
    "    numbers = 0\n",
    "    for i in sent_no_punc:\n",
    "        try:\n",
    "            float(i)\n",
    "            numbers += 1\n",
    "        except:\n",
    "            continue\n",
    "    return numbers"
   ]
  },
  {
   "cell_type": "code",
   "execution_count": 45,
   "metadata": {
    "scrolled": true
   },
   "outputs": [],
   "source": [
    "causal_data_notext[\"body_len\"] = causal_data[\"Body\"].apply(get_counts)\n",
    "causal_data_notext[\"body_len_numbers\"] = causal_data[\"Body\"].apply(get_counts_numbers)"
   ]
  },
  {
   "cell_type": "code",
   "execution_count": 46,
   "metadata": {},
   "outputs": [
    {
     "data": {
      "text/plain": [
       "<AxesSubplot:title={'center':'Density of number of numerics in an ad sentence'}, xlabel='# numerics', ylabel='Density'>"
      ]
     },
     "execution_count": 46,
     "metadata": {},
     "output_type": "execute_result"
    },
    {
     "data": {
      "image/png": "[encoded data removed]",
      "text/plain": [
       "<Figure size 720x540 with 1 Axes>"
      ]
     },
     "metadata": {
      "needs_background": "light"
     },
     "output_type": "display_data"
    },
    {
     "data": {
      "image/png": "[encoded data removed]",
      "text/plain": [
       "<Figure size 720x540 with 1 Axes>"
      ]
     },
     "metadata": {
      "needs_background": "light"
     },
     "output_type": "display_data"
    }
   ],
   "source": [
    "plt.figure()\n",
    "plt.title(\"Density of number of words in an ad sentence\")\n",
    "plt.xlabel(\"# words\")\n",
    "causal_data_notext[\"body_len\"].plot.kde()\n",
    "\n",
    "plt.figure()\n",
    "plt.title(\"Density of number of numerics in an ad sentence\")\n",
    "plt.xlabel(\"# numerics\")\n",
    "causal_data_notext[\"body_len_numbers\"].plot.kde()"
   ]
  },
  {
   "cell_type": "code",
   "execution_count": 47,
   "metadata": {},
   "outputs": [],
   "source": [
    "causal_data_notext[\"body_len_bin\"] = pd.qcut(causal_data_notext['body_len'], q=2, labels=[False,True])"
   ]
  },
  {
   "cell_type": "code",
   "execution_count": 48,
   "metadata": {
    "scrolled": false
   },
   "outputs": [
    {
     "name": "stdout",
     "output_type": "stream",
     "text": [
      "Ttest_indResult(statistic=3.6371654365107022, pvalue=0.00027890826293865974)\n",
      "Class 1:  0.8408083435893724  Length:  2070\n",
      "Class 0:  0.7399829795642294  Length:  2203\n"
     ]
    },
    {
     "data": {
      "image/png": "[encoded data removed]",
      "text/plain": [
       "<Figure size 720x360 with 1 Axes>"
      ]
     },
     "metadata": {
      "needs_background": "light"
     },
     "output_type": "display_data"
    },
    {
     "name": "stdout",
     "output_type": "stream",
     "text": [
      "Ttest_indResult(statistic=-0.5694582434620907, pvalue=0.5690751478457524)\n",
      "Class 1:  1.7194375748695647  Length:  2070\n",
      "Class 0:  1.7434372234498414  Length:  2203\n"
     ]
    },
    {
     "data": {
      "image/png": "[encoded data removed]",
      "text/plain": [
       "<Figure size 720x360 with 1 Axes>"
      ]
     },
     "metadata": {
      "needs_background": "light"
     },
     "output_type": "display_data"
    }
   ],
   "source": [
    "ttest_binary(causal_data_notext, \"body_len_bin\", \"ctr\")\n",
    "ttest_binary(causal_data_notext, \"body_len_bin\", \"cpc\")"
   ]
  },
  {
   "cell_type": "code",
   "execution_count": 50,
   "metadata": {},
   "outputs": [],
   "source": [
    "causal_data_notext[\"body_len_numbers_bin\"] = causal_data_notext['body_len_numbers'].apply(lambda cnt:cnt > 1)"
   ]
  },
  {
   "cell_type": "code",
   "execution_count": 51,
   "metadata": {
    "scrolled": false
   },
   "outputs": [
    {
     "name": "stdout",
     "output_type": "stream",
     "text": [
      "Ttest_indResult(statistic=-3.9547861671680056, pvalue=7.78443398417579e-05)\n",
      "Class 1:  0.7307084419601984  Length:  2010\n",
      "Class 0:  0.8404471086478125  Length:  2263\n"
     ]
    },
    {
     "data": {
      "image/png": "[encoded data removed]",
      "text/plain": [
       "<Figure size 720x360 with 1 Axes>"
      ]
     },
     "metadata": {
      "needs_background": "light"
     },
     "output_type": "display_data"
    },
    {
     "name": "stdout",
     "output_type": "stream",
     "text": [
      "Ttest_indResult(statistic=3.7111759459745794, pvalue=0.00020892551742808632)\n",
      "Class 1:  1.8146195492786048  Length:  2010\n",
      "Class 0:  1.6582601366283711  Length:  2263\n"
     ]
    },
    {
     "data": {
      "image/png": "[encoded data removed]",
      "text/plain": [
       "<Figure size 720x360 with 1 Axes>"
      ]
     },
     "metadata": {
      "needs_background": "light"
     },
     "output_type": "display_data"
    }
   ],
   "source": [
    "ttest_binary(causal_data_notext, \"body_len_numbers_bin\", \"ctr\")\n",
    "ttest_binary(causal_data_notext, \"body_len_numbers_bin\", \"cpc\")"
   ]
  },
  {
   "cell_type": "markdown",
   "metadata": {},
   "source": [
    "### having a code "
   ]
  },
  {
   "cell_type": "code",
   "execution_count": 53,
   "metadata": {},
   "outputs": [],
   "source": [
    "causal_data_notext[\"is_code\"] = causal_data[\"Body\"].apply(lambda sent: \"code\" in sent or \"Code\" in sent)"
   ]
  },
  {
   "cell_type": "code",
   "execution_count": 54,
   "metadata": {},
   "outputs": [
    {
     "name": "stdout",
     "output_type": "stream",
     "text": [
      "Ttest_indResult(statistic=-10.430040663905556, pvalue=3.618194905939216e-25)\n",
      "Class 1:  0.6063972777476926  Length:  1625\n",
      "Class 0:  0.9007780207213001  Length:  2648\n"
     ]
    },
    {
     "data": {
      "image/png": "[encoded data removed]",
      "text/plain": [
       "<Figure size 720x360 with 1 Axes>"
      ]
     },
     "metadata": {
      "needs_background": "light"
     },
     "output_type": "display_data"
    },
    {
     "name": "stdout",
     "output_type": "stream",
     "text": [
      "Ttest_indResult(statistic=15.396823210346104, pvalue=4.215779203229531e-52)\n",
      "Class 1:  2.1347619426276943  Length:  1625\n",
      "Class 0:  1.4845316565219024  Length:  2648\n"
     ]
    },
    {
     "data": {
      "image/png": "[encoded data removed]",
      "text/plain": [
       "<Figure size 720x360 with 1 Axes>"
      ]
     },
     "metadata": {
      "needs_background": "light"
     },
     "output_type": "display_data"
    }
   ],
   "source": [
    "ttest_binary(causal_data_notext, \"is_code\", \"ctr\")\n",
    "ttest_binary(causal_data_notext, \"is_code\", \"cpc\")"
   ]
  },
  {
   "cell_type": "markdown",
   "metadata": {},
   "source": [
    "### domain words"
   ]
  },
  {
   "cell_type": "code",
   "execution_count": 55,
   "metadata": {},
   "outputs": [],
   "source": [
    "ad_words = [\"code\",\"shipping\",\"free\",\"sale\"]\n",
    "domain_words = [\"retinol\",\"acne\",\"spots\",\"Serum\",\"breakouts\",\"Vita\",\"clinically\",\"Glycolic\"]\n"
   ]
  },
  {
   "cell_type": "code",
   "execution_count": 56,
   "metadata": {},
   "outputs": [],
   "source": [
    "def domain_detector(sent, domain_words):\n",
    "    for dw in domain_words:\n",
    "        if dw in sent:\n",
    "            return True\n",
    "    return False"
   ]
  },
  {
   "cell_type": "code",
   "execution_count": 57,
   "metadata": {
    "scrolled": true
   },
   "outputs": [],
   "source": [
    "domain_words = [\"retinol\",\"acne\",\"spots\",\"Serum\",\"breakouts\",\"Vita\",\"clinically\",\"Glycolic\"]\n",
    "causal_data_notext[\"is_domain\"] = causal_data[\"Body\"].apply(domain_detector, args = (domain_words,))"
   ]
  },
  {
   "cell_type": "code",
   "execution_count": 58,
   "metadata": {},
   "outputs": [
    {
     "name": "stdout",
     "output_type": "stream",
     "text": [
      "Ttest_indResult(statistic=1.4857529731669323, pvalue=0.13741827949139532)\n",
      "Class 1:  0.8100482473674063  Length:  2074\n",
      "Class 0:  0.7688111460527505  Length:  2199\n"
     ]
    },
    {
     "data": {
      "image/png": "[encoded data removed]",
      "text/plain": [
       "<Figure size 720x360 with 1 Axes>"
      ]
     },
     "metadata": {
      "needs_background": "light"
     },
     "output_type": "display_data"
    },
    {
     "name": "stdout",
     "output_type": "stream",
     "text": [
      "Ttest_indResult(statistic=-9.51558728164749, pvalue=2.930785180055494e-21)\n",
      "Class 1:  1.5275866157425235  Length:  2074\n",
      "Class 0:  1.9244262583856315  Length:  2199\n"
     ]
    },
    {
     "data": {
      "image/png": "[encoded data removed]",
      "text/plain": [
       "<Figure size 720x360 with 1 Axes>"
      ]
     },
     "metadata": {
      "needs_background": "light"
     },
     "output_type": "display_data"
    }
   ],
   "source": [
    "ttest_binary(causal_data_notext, \"is_domain\", \"ctr\")\n",
    "ttest_binary(causal_data_notext, \"is_domain\", \"cpc\")"
   ]
  },
  {
   "cell_type": "code",
   "execution_count": null,
   "metadata": {},
   "outputs": [],
   "source": []
  },
  {
   "cell_type": "code",
   "execution_count": null,
   "metadata": {},
   "outputs": [],
   "source": []
  },
  {
   "cell_type": "code",
   "execution_count": null,
   "metadata": {},
   "outputs": [],
   "source": []
  },
  {
   "cell_type": "code",
   "execution_count": null,
   "metadata": {},
   "outputs": [],
   "source": []
  },
  {
   "cell_type": "code",
   "execution_count": null,
   "metadata": {},
   "outputs": [],
   "source": []
  },
  {
   "cell_type": "code",
   "execution_count": null,
   "metadata": {},
   "outputs": [],
   "source": [
    "### end of structure"
   ]
  },
  {
   "cell_type": "code",
   "execution_count": null,
   "metadata": {},
   "outputs": [],
   "source": [
    "### random analytics"
   ]
  },
  {
   "cell_type": "code",
   "execution_count": null,
   "metadata": {},
   "outputs": [],
   "source": [
    "import re\n",
    "from collections import Counter\n",
    "\n",
    "from nltk.corpus import stopwords\n",
    "from nltk.tokenize import RegexpTokenizer"
   ]
  },
  {
   "cell_type": "code",
   "execution_count": null,
   "metadata": {},
   "outputs": [],
   "source": [
    "causal_data[\"Body\"] = causal_data[\"Body\"].apply(convert_nans)"
   ]
  },
  {
   "cell_type": "code",
   "execution_count": null,
   "metadata": {
    "scrolled": true
   },
   "outputs": [],
   "source": [
    "from sklearn.feature_extraction.text import TfidfVectorizer\n",
    "corpus = causal_data[\"Body\"].tolist()\n",
    "vectorizer = TfidfVectorizer()\n",
    "X = vectorizer.fit_transform(corpus)\n",
    "print(vectorizer.get_feature_names())"
   ]
  },
  {
   "cell_type": "code",
   "execution_count": null,
   "metadata": {},
   "outputs": [],
   "source": [
    "X.shape"
   ]
  },
  {
   "cell_type": "code",
   "execution_count": null,
   "metadata": {},
   "outputs": [],
   "source": [
    "X"
   ]
  },
  {
   "cell_type": "code",
   "execution_count": null,
   "metadata": {},
   "outputs": [],
   "source": [
    "zen = \" \".join(causal_data[\"Body\"].tolist())"
   ]
  },
  {
   "cell_type": "code",
   "execution_count": null,
   "metadata": {},
   "outputs": [],
   "source": [
    "tokenizer = RegexpTokenizer(r'\\w+')"
   ]
  },
  {
   "cell_type": "code",
   "execution_count": null,
   "metadata": {
    "scrolled": true
   },
   "outputs": [],
   "source": [
    "zen_no_punc = tokenizer.tokenize(zen)"
   ]
  },
  {
   "cell_type": "code",
   "execution_count": null,
   "metadata": {},
   "outputs": [],
   "source": [
    "len(causal_data[\"Body\"])"
   ]
  },
  {
   "cell_type": "code",
   "execution_count": null,
   "metadata": {},
   "outputs": [],
   "source": [
    "u,c = np.unique(zen_no_punc,return_counts=True)\n",
    "uc = dict(zip(u,c))\n",
    "sorted(uc.items(), key=lambda a:-a[1])"
   ]
  },
  {
   "cell_type": "code",
   "execution_count": null,
   "metadata": {},
   "outputs": [],
   "source": [
    "# tf-idf based approach\n",
    "# topic modeling\n",
    "# word clustering based on embedding"
   ]
  },
  {
   "cell_type": "code",
   "execution_count": null,
   "metadata": {},
   "outputs": [],
   "source": []
  },
  {
   "cell_type": "code",
   "execution_count": null,
   "metadata": {
    "scrolled": true
   },
   "outputs": [],
   "source": [
    "word_count_dict = Counter(w.title() for w in zen_no_punc if w.lower() not in stopwords.words())\n",
    "word_count_dict.most_common()"
   ]
  },
  {
   "cell_type": "code",
   "execution_count": null,
   "metadata": {},
   "outputs": [],
   "source": []
  },
  {
   "cell_type": "markdown",
   "metadata": {},
   "source": [
    "## Images"
   ]
  },
  {
   "cell_type": "code",
   "execution_count": null,
   "metadata": {},
   "outputs": [],
   "source": [
    "- presence of a human in the video\n",
    "- color spectrum and performance\n",
    "- "
   ]
  },
  {
   "cell_type": "code",
   "execution_count": null,
   "metadata": {},
   "outputs": [],
   "source": []
  },
  {
   "cell_type": "code",
   "execution_count": null,
   "metadata": {},
   "outputs": [],
   "source": []
  },
  {
   "cell_type": "markdown",
   "metadata": {},
   "source": [
    "## Snapshot of data"
   ]
  },
  {
   "cell_type": "code",
   "execution_count": null,
   "metadata": {},
   "outputs": [],
   "source": [
    "ad_data['start_date'] = pd.to_datetime(ad_data['Starts'], format='%Y-%m-%d')\n",
    "ad_data['start_month_yr'] = ad_data['start_date'].dt.to_period('M')\n",
    "ad_data['start_month'] = ad_data['start_date'].dt.month\n",
    "ad_data['start_yr'] = ad_data['start_date'].dt.year"
   ]
  },
  {
   "cell_type": "code",
   "execution_count": null,
   "metadata": {},
   "outputs": [],
   "source": [
    "sns.countplot(x=\"start_yr\", data=ad_data)\n",
    "plt.title(\"Number of ads by year\")\n",
    "plt.xticks(rotation=90)\n",
    "plt.show()"
   ]
  },
  {
   "cell_type": "code",
   "execution_count": null,
   "metadata": {},
   "outputs": [],
   "source": [
    "yearly_spending = ad_data['Amount Spent (USD)'].groupby(ad_data['start_yr']).sum()\n",
    "df = pd.DataFrame({'Year': yearly_spending.index, 'Amount Spent (USD)': yearly_spending.values})\n",
    "sns.barplot(x = 'Year', y = 'Amount Spent (USD)', data = df)\n",
    "plt.title(\"Total Spending (USD): \" + str(round(np.sum(ad_data['Amount Spent (USD)']),2)))\n",
    "plt.show()"
   ]
  },
  {
   "cell_type": "markdown",
   "metadata": {},
   "source": [
    "## some feature analysis"
   ]
  },
  {
   "cell_type": "markdown",
   "metadata": {},
   "source": [
    "### clean up features"
   ]
  },
  {
   "cell_type": "code",
   "execution_count": null,
   "metadata": {},
   "outputs": [],
   "source": [
    "def replace_nans(name):\n",
    "    \"\"\"\n",
    "    for a given column - interpret nan as absent and anything else as present\n",
    "    \n",
    "    \"\"\"\n",
    "    \n",
    "    return str(name) != \"nan\"\n",
    "    \n",
    "# deprecated\n",
    "def process_ad_name(name):\n",
    "    return name.split('_')[-1]\n",
    "\n",
    "\n",
    "def get_media_type(name,im,vid):\n",
    "    if \"Video\" in name:\n",
    "        return \"Video\"\n",
    "    elif \"Static\" in name:\n",
    "        return \"Image\"\n",
    "    elif \"GIF\" in name:\n",
    "        return \"GIF\"\n",
    "    else:\n",
    "        if str(im) != \"nan\":\n",
    "            return \"Image\"\n",
    "        elif str(vid) != \"nan\":\n",
    "            return \"Video\"\n",
    "        else:\n",
    "            return \"UNK\"\n",
    "    \n",
    "# targeting column\n",
    "\n",
    "def target_subsetter(gender,age):\n",
    "    # says ad is targetted if gender is women and min age is 24\n",
    "    if gender == \"Women\" and age == 24:\n",
    "        return 1\n",
    "    else:\n",
    "        return 0"
   ]
  },
  {
   "cell_type": "code",
   "execution_count": null,
   "metadata": {},
   "outputs": [],
   "source": [
    "ad_data['messenger_ad'] = ad_data['Messenger Positions'].apply(replace_nans)"
   ]
  },
  {
   "cell_type": "code",
   "execution_count": null,
   "metadata": {},
   "outputs": [],
   "source": [
    "# apply naive processing\n",
    "ad_data['media_type'] = ad_data['Ad Name_x'].apply(process_ad_name)"
   ]
  },
  {
   "cell_type": "code",
   "execution_count": null,
   "metadata": {
    "scrolled": true
   },
   "outputs": [],
   "source": [
    "# get media type from a combo of ad name, image hash and video url\n",
    "ad_data[\"media_type\"] = ad_data.apply(lambda x: get_media_type(x['Ad Name_x'], x['Image Hash'], x['Video Thumbnail URL']), axis=1)"
   ]
  },
  {
   "cell_type": "markdown",
   "metadata": {},
   "source": [
    "### metrics exploration"
   ]
  },
  {
   "cell_type": "code",
   "execution_count": null,
   "metadata": {},
   "outputs": [],
   "source": [
    "ad_data['ctr'] = ad_data['CTR (All)']\n",
    "ad_data['cpc'] = ad_data['CPC (All) (USD)']\n",
    "ad_data['roas'] = ad_data['Website Purchase ROAS (Return on Ad Spend)']\n",
    "# transform to log scale\n",
    "epsilon = 10e-2\n",
    "ad_data['log_ctr'] = np.log(np.where(ad_data['ctr'] == 0, epsilon, ad_data['ctr']))\n",
    "ad_data['log_cpc'] = np.log(np.where(ad_data['cpc'] == 0, epsilon, ad_data['cpc'])) "
   ]
  },
  {
   "cell_type": "code",
   "execution_count": null,
   "metadata": {
    "scrolled": true
   },
   "outputs": [],
   "source": [
    "ad_data[metric_cols].describe()"
   ]
  },
  {
   "cell_type": "code",
   "execution_count": null,
   "metadata": {},
   "outputs": [],
   "source": [
    "sns.kdeplot(data=ad_data, x=\"ctr\")\n",
    "plt.title('CTR (All)')\n",
    "plt.axvline(x=np.mean(ad_data.ctr), label = \"mean\", color = \"red\", alpha = 0.75)\n",
    "plt.axvline(x=np.median(ad_data.ctr), label = \"median\", color = \"green\", alpha = 0.75)\n",
    "plt.xticks(np.arange(0, np.max(ad_data.ctr), 1.0))\n",
    "plt.legend()\n",
    "plt.show()"
   ]
  },
  {
   "cell_type": "code",
   "execution_count": null,
   "metadata": {
    "scrolled": false
   },
   "outputs": [],
   "source": [
    "sns.kdeplot(data=ad_data, x=\"cpc\")\n",
    "plt.title('CPC (All) (USD)')\n",
    "plt.axvline(x=np.mean(ad_data.cpc), label = \"mean\", color = \"red\", alpha = 0.75)\n",
    "plt.axvline(x=np.median(ad_data.cpc), label = \"median\", color = \"green\", alpha = 0.75)\n",
    "plt.xticks(np.arange(0, np.max(ad_data.cpc), 5.0))\n",
    "plt.legend()\n",
    "plt.show()"
   ]
  },
  {
   "cell_type": "code",
   "execution_count": null,
   "metadata": {},
   "outputs": [],
   "source": [
    "sns.kdeplot(data=ad_data[ad_data.roas.notna()], x='roas')\n",
    "plt.title('Website Purchase ROAS (Return on Ad Spend)')\n",
    "plt.axvline(x=np.mean(ad_data.roas), label = \"mean\", color = \"red\", alpha = 0.75)\n",
    "plt.axvline(x=np.median(ad_data.roas), label = \"median\", color = \"green\", alpha = 0.75)\n",
    "plt.xticks(np.arange(0, np.max(ad_data.roas), 5000))\n",
    "plt.legend()\n",
    "plt.show()"
   ]
  },
  {
   "cell_type": "markdown",
   "metadata": {},
   "source": [
    "## media exploration"
   ]
  },
  {
   "cell_type": "code",
   "execution_count": null,
   "metadata": {
    "scrolled": true
   },
   "outputs": [],
   "source": [
    "df_media = ad_data[['log_cpc', 'cpc', 'log_ctr', 'ctr', \"media_type\"]]\n",
    "df_media.media_type.value_counts()"
   ]
  },
  {
   "cell_type": "code",
   "execution_count": null,
   "metadata": {},
   "outputs": [],
   "source": [
    "X_bin = pd.get_dummies(df_media.media_type, columns=[\"media_type\"])[['Video', 'GIF']]"
   ]
  },
  {
   "cell_type": "code",
   "execution_count": null,
   "metadata": {},
   "outputs": [],
   "source": [
    "plt.figure(figsize=(10, 5))\n",
    "ax = sns.boxenplot(x='media_type', y='ctr', data=df_media, showfliers=False)\n",
    "ax.set_title('CTR')\n",
    "plt.show()"
   ]
  },
  {
   "cell_type": "code",
   "execution_count": null,
   "metadata": {},
   "outputs": [],
   "source": [
    "ctr = df_media.ctr\n",
    "model_ctr = sm.OLS(ctr, X_bin).fit()\n",
    "model_ctr.summary()"
   ]
  },
  {
   "cell_type": "code",
   "execution_count": null,
   "metadata": {},
   "outputs": [],
   "source": [
    "plt.figure(figsize=(10, 5))\n",
    "ax = sns.boxenplot(x='media_type', y='cpc', data=df_media, showfliers=True)\n",
    "ax.set_title('CPC')\n",
    "plt.show()"
   ]
  },
  {
   "cell_type": "code",
   "execution_count": null,
   "metadata": {},
   "outputs": [],
   "source": [
    "cpc = df_media.cpc\n",
    "model_cpc = sm.OLS(cpc, X_bin).fit()\n",
    "model_cpc.summary()"
   ]
  },
  {
   "cell_type": "code",
   "execution_count": null,
   "metadata": {},
   "outputs": [],
   "source": []
  }
 ],
 "metadata": {
  "kernelspec": {
   "display_name": "Python 3",
   "language": "python",
   "name": "python3"
  },
  "language_info": {
   "codemirror_mode": {
    "name": "ipython",
    "version": 3
   },
   "file_extension": ".py",
   "mimetype": "text/x-python",
   "name": "python",
   "nbconvert_exporter": "python",
   "pygments_lexer": "ipython3",
   "version": "3.8.5"
  }
 },
 "nbformat": 4,
 "nbformat_minor": 4
}
